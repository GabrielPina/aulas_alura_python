{
  "nbformat": 4,
  "nbformat_minor": 0,
  "metadata": {
    "colab": {
      "provenance": [],
      "toc_visible": true
    },
    "kernelspec": {
      "name": "python3",
      "display_name": "Python 3"
    },
    "language_info": {
      "name": "python"
    }
  },
  "cells": [
    {
      "cell_type": "markdown",
      "source": [
        "# Sobre o notebook\n",
        "\n",
        "A \"hora da prática\" é uma atividade do curso de Python para Data Science da Alura que contém diversos desafios envolvendo os aprendizados de cada aula.\n",
        "\n",
        "O notebook \"hora da pratica\" é um notebook construído com espaço para as células dos desafios propostos no curso, com ele você tem espaço para construir e executar suas soluções"
      ],
      "metadata": {
        "id": "_kwAaQ36gLQ1"
      }
    },
    {
      "cell_type": "markdown",
      "source": [
        "## Aula 1 - Introdução ao Python"
      ],
      "metadata": {
        "id": "Mc-KN0dA0Z83"
      }
    },
    {
      "cell_type": "markdown",
      "source": [
        "### Questão 1\n",
        "\n",
        "Imprima a frase `Escola de Dados da Alura!`"
      ],
      "metadata": {
        "id": "l5eLWf0W0ikn"
      }
    },
    {
      "cell_type": "code",
      "source": [
        "print('Escola de Dados da Alura')"
      ],
      "metadata": {
        "id": "5pllxJ0h0-yA",
        "colab": {
          "base_uri": "https://localhost:8080/"
        },
        "outputId": "eefe8dab-97e8-4897-c39a-801f656ec1eb"
      },
      "execution_count": null,
      "outputs": [
        {
          "output_type": "stream",
          "name": "stdout",
          "text": [
            "Escola de Dados da Alura\n"
          ]
        }
      ]
    },
    {
      "cell_type": "markdown",
      "source": [
        "### Questão 2\n",
        "Imprima na tela seu nome e seu sobrenome seguindo a estrutura abaixo:\n",
        "```\n",
        "Nome: [seu nome]\n",
        "Sobrenome: [seu sobrenome]\n",
        "```\n"
      ],
      "metadata": {
        "id": "tQdX90Ue03c7"
      }
    },
    {
      "cell_type": "code",
      "source": [
        "print('Nome: [Gabriel]')\n",
        "print('Sobrenome: [Pina]')"
      ],
      "metadata": {
        "id": "RVw5iKn20_Ps",
        "colab": {
          "base_uri": "https://localhost:8080/"
        },
        "outputId": "23bdad40-0314-448b-9789-82d8b5fc3cf7"
      },
      "execution_count": null,
      "outputs": [
        {
          "output_type": "stream",
          "name": "stdout",
          "text": [
            "Nome: [Gabriel]\n",
            "Sobrenome: [Pina]\n"
          ]
        }
      ]
    },
    {
      "cell_type": "markdown",
      "source": [
        "### Questão 3\n",
        "Imprima o seu primeiro nome letra a letra. Por exemplo, nome é Mirla, então eu obtenho a seguinte saída:\n",
        "```\n",
        "M\n",
        "I\n",
        "R\n",
        "L\n",
        "A\n",
        "```\n"
      ],
      "metadata": {
        "id": "gfg-aiip03vC"
      }
    },
    {
      "cell_type": "code",
      "source": [
        "print('G')\n",
        "print('A')\n",
        "print('B')\n",
        "print('R')\n",
        "print('I')\n",
        "print('E')\n",
        "print('L')"
      ],
      "metadata": {
        "id": "v5bkrgf60_qx",
        "colab": {
          "base_uri": "https://localhost:8080/"
        },
        "outputId": "c22a58c3-7fd7-4d5c-bd9d-31e20ce42e2d"
      },
      "execution_count": null,
      "outputs": [
        {
          "output_type": "stream",
          "name": "stdout",
          "text": [
            "G\n",
            "A\n",
            "B\n",
            "R\n",
            "I\n",
            "E\n",
            "L\n"
          ]
        }
      ]
    },
    {
      "cell_type": "markdown",
      "source": [
        "### Questão 4\n",
        "Imprima o dia do seu nascimento em formato `dia mês ano`. Os valores de dia e ano não podem estar entre aspas. O formato deve estar como no exemplo, supondo uma data de aniversário dia 28 de fevereiro de 2003:\n",
        "```\n",
        "28 fevereiro 2003\n",
        "```"
      ],
      "metadata": {
        "id": "oadrJbl704MM"
      }
    },
    {
      "cell_type": "code",
      "source": [
        "print(9, ' março ', 2000)"
      ],
      "metadata": {
        "id": "cx0KSsrq1ALD",
        "colab": {
          "base_uri": "https://localhost:8080/"
        },
        "outputId": "43c847f3-2b69-4258-a14f-33adde1ed22c"
      },
      "execution_count": null,
      "outputs": [
        {
          "output_type": "stream",
          "name": "stdout",
          "text": [
            "9  março  2000\n"
          ]
        }
      ]
    },
    {
      "cell_type": "markdown",
      "source": [
        "### Questão 5\n",
        "Imprima em um único print o atual ano que você está fazendo esse curso, o valor do ano deve ser um dado numérico. A saída do print deve ser a seguinte:\n",
        "```\n",
        "Ano atual: [ano]\n",
        "```\n"
      ],
      "metadata": {
        "id": "3RgyMaan04TD"
      }
    },
    {
      "cell_type": "code",
      "execution_count": null,
      "metadata": {
        "id": "UN77EfQ2d36Y",
        "colab": {
          "base_uri": "https://localhost:8080/"
        },
        "outputId": "a3a27127-cfcf-4e2c-c8ad-efaf7fc3fa0a"
      },
      "outputs": [
        {
          "output_type": "stream",
          "name": "stdout",
          "text": [
            "Ano atual [ 2025 ]\n"
          ]
        }
      ],
      "source": [
        "print('Ano atual [', 2025,']')"
      ]
    },
    {
      "cell_type": "markdown",
      "source": [
        "## Aula 2 - Manipulando dados no Python"
      ],
      "metadata": {
        "id": "D9e3FqhO1S3X"
      }
    },
    {
      "cell_type": "markdown",
      "source": [
        "### Coleta e amostragem de dados"
      ],
      "metadata": {
        "id": "n6o7C1Ze2cRe"
      }
    },
    {
      "cell_type": "markdown",
      "source": [
        "#### Questão 1\n",
        "Crie um programa que solicite à pessoa usuária digitar seu nome, e imprima “Olá, [nome]!”."
      ],
      "metadata": {
        "id": "sRneWag9PV5Q"
      }
    },
    {
      "cell_type": "code",
      "source": [
        "nome = input('Digite o seu nome: ')\n",
        "print(f'Olá, {nome}!')"
      ],
      "metadata": {
        "id": "dbX1fKqy2HnE",
        "colab": {
          "base_uri": "https://localhost:8080/"
        },
        "outputId": "4eebb6b9-51ef-4cd3-fc23-8c92ed1aa773"
      },
      "execution_count": null,
      "outputs": [
        {
          "output_type": "stream",
          "name": "stdout",
          "text": [
            "Digite o seu nome: Gabriel\n",
            "Olá, Gabriel!\n"
          ]
        }
      ]
    },
    {
      "cell_type": "markdown",
      "source": [
        "#### Questão 2\n",
        "Crie um programa que solicite à pessoa usuária digitar seu nome e idade, e imprima “Olá, [nome], você tem [idade] anos.”."
      ],
      "metadata": {
        "id": "BJ1SznEp70d5"
      }
    },
    {
      "cell_type": "code",
      "source": [
        "nome_1 = input('Digite o seu nome: ')\n",
        "idade_1 = int(input('Digite a sua idade: '))\n",
        "print(f'Olá, {nome_1}, você tem {idade_1} anos')"
      ],
      "metadata": {
        "id": "jKz-0Sq8PFkp",
        "colab": {
          "base_uri": "https://localhost:8080/"
        },
        "outputId": "d196dce7-f4e8-49e3-c21e-d2814c9dc2fb"
      },
      "execution_count": null,
      "outputs": [
        {
          "output_type": "stream",
          "name": "stdout",
          "text": [
            "Digite o seu nome: Gabriel\n",
            "Digite a sua idade: 25\n",
            "Olá, Gabriel, você tem 25 anos\n"
          ]
        }
      ]
    },
    {
      "cell_type": "markdown",
      "source": [
        "#### Questão 3\n",
        "Crie um programa que solicite à pessoa usuária digitar seu nome, idade e altura em metros, e imprima “Olá, [nome], você tem [idade] anos e mede [altura] metros!”."
      ],
      "metadata": {
        "id": "2T0jNYZt70aa"
      }
    },
    {
      "cell_type": "code",
      "source": [
        "nome_2 = input('Digite o seu nome: ')\n",
        "idade_2 = int(input('Digite a sua idade: '))\n",
        "altura_2 = float(input('Digite a sua altura: '))\n",
        "\n",
        "print(f'Olá, {nome_2}, você tem {idade_2} anos e mede {altura_2} metros')"
      ],
      "metadata": {
        "id": "pI4kHNzTPIXh",
        "colab": {
          "base_uri": "https://localhost:8080/"
        },
        "outputId": "098602c9-2a69-4270-aa97-cd77c7da0f91"
      },
      "execution_count": null,
      "outputs": [
        {
          "output_type": "stream",
          "name": "stdout",
          "text": [
            "Digite o seu nome: Gabriel\n",
            "Digite a sua idade: 25\n",
            "Digite a sua altura: 1.75\n",
            "Olá, Gabriel, você tem 25 anos e mede 1.75 metros\n"
          ]
        }
      ]
    },
    {
      "cell_type": "markdown",
      "source": [
        "### Calculadora com operadores"
      ],
      "metadata": {
        "id": "mEBFwKkC70KP"
      }
    },
    {
      "cell_type": "markdown",
      "source": [
        "#### Questão 1\n",
        "\n",
        "Crie um programa que solicite dois valores numéricos à pessoa usuária e imprima a soma dos dois valores."
      ],
      "metadata": {
        "id": "H-IV1oAPPSqK"
      }
    },
    {
      "cell_type": "code",
      "source": [
        "num_1 = float(input('Digite o valor do primeiro numero: '))\n",
        "num_2 = float(input('Digite o valor do segundo numero: '))\n",
        "soma = num_1 + num_2\n",
        "\n",
        "print(f'A soma do {num_1} e {num_2} é {soma}')"
      ],
      "metadata": {
        "id": "Zb0W84sy8rnp",
        "colab": {
          "base_uri": "https://localhost:8080/"
        },
        "outputId": "52ea16d6-aa8d-4eb5-9328-f3daba529b30"
      },
      "execution_count": null,
      "outputs": [
        {
          "output_type": "stream",
          "name": "stdout",
          "text": [
            "Digite o valor do primeiro numero: 15\n",
            "Digite o valor do segundo numero: 35.7\n",
            "A soma do 15.0 e 35.7 é 50.7\n"
          ]
        }
      ]
    },
    {
      "cell_type": "markdown",
      "source": [
        "#### Questão 2\n",
        "Crie um programa que solicite três valores numéricos à pessoa usuária e imprima a soma dos três valores."
      ],
      "metadata": {
        "id": "LUoi2MOu70Em"
      }
    },
    {
      "cell_type": "code",
      "source": [
        "num_1 = float(input('Digite o valor do primeiro numero: '))\n",
        "num_2 = float(input('Digite o valor do segundo numero: '))\n",
        "num_3 = float(input('Digite o valor do terceiro numero: '))\n",
        "\n",
        "soma = num_1 + num_2 + num_3\n",
        "\n",
        "print(f'A soma do {num_1}, {num_2} e {num_3} é {soma}')"
      ],
      "metadata": {
        "id": "4FYjWyBS8rDm",
        "colab": {
          "base_uri": "https://localhost:8080/"
        },
        "outputId": "c1b03b0b-cdd0-404f-95de-facd2539cfd0"
      },
      "execution_count": null,
      "outputs": [
        {
          "output_type": "stream",
          "name": "stdout",
          "text": [
            "Digite o valor do primeiro numero: 25\n",
            "Digite o valor do segundo numero: 11.2\n",
            "Digite o valor do terceiro numero: 9.6\n",
            "A soma do 25.0, 11.2 e 9.6 é 45.800000000000004\n"
          ]
        }
      ]
    },
    {
      "cell_type": "markdown",
      "source": [
        "#### Questão 3\n",
        "Crie um programa que solicite dois valores numéricos à pessoa usuária e imprima a subtração do primeiro pelo o segundo valor."
      ],
      "metadata": {
        "id": "lezGctF07z8i"
      }
    },
    {
      "cell_type": "code",
      "source": [
        "num_1 = float(input('Digite o valor do primeiro numero: '))\n",
        "num_2 = float(input('Digite o valor do segundo numero: '))\n",
        "\n",
        "subtracao = num_1 - num_2\n",
        "\n",
        "print(f'A subtração do {num_1} pelo {num_2} é {subtracao}')"
      ],
      "metadata": {
        "id": "k0GE1z4w8p3J",
        "colab": {
          "base_uri": "https://localhost:8080/"
        },
        "outputId": "87226241-f32c-498d-b919-56183bf9c830"
      },
      "execution_count": null,
      "outputs": [
        {
          "output_type": "stream",
          "name": "stdout",
          "text": [
            "Digite o valor do primeiro numero: 10\n",
            "Digite o valor do segundo numero: 7\n",
            "A subtração do 10.0 pelo 7.0 é 3.0\n"
          ]
        }
      ]
    },
    {
      "cell_type": "markdown",
      "source": [
        "#### Questão 4\n",
        "\n",
        "Crie um programa que solicite dois valores numéricos à pessoa usuária e imprima a multiplicação dos dois valores.\n"
      ],
      "metadata": {
        "id": "wwMP-dPU7zxW"
      }
    },
    {
      "cell_type": "code",
      "source": [
        "num_1 = float(input('Digite o valor do primeiro numero: '))\n",
        "num_2 = float(input('Digite o valor do segundo numero: '))\n",
        "\n",
        "multiplicacao = num_1 * num_2\n",
        "\n",
        "print(f'A multiplicação do {num_1} pelo {num_2} é {multiplicacao}')"
      ],
      "metadata": {
        "id": "GzFCVHfp8peZ",
        "colab": {
          "base_uri": "https://localhost:8080/"
        },
        "outputId": "83c87085-24fb-4872-c5f2-f17a2b9e4284"
      },
      "execution_count": null,
      "outputs": [
        {
          "output_type": "stream",
          "name": "stdout",
          "text": [
            "Digite o valor do primeiro numero: 5\n",
            "Digite o valor do segundo numero: 9\n",
            "A multiplicação do 5.0 pelo 9.0 é 45.0\n"
          ]
        }
      ]
    },
    {
      "cell_type": "markdown",
      "source": [
        "#### Questão 5\n",
        "\n",
        "Crie um programa que solicite dois valores numéricos, um numerador e um denominador, e realize a divisão entre os dois valores. Deixe claro que o valor do denominador não pode ser `0`.\n"
      ],
      "metadata": {
        "id": "9kxyHxUo7zRD"
      }
    },
    {
      "cell_type": "code",
      "source": [
        "numerador = float(input('Digite o valor do numerador: '))\n",
        "denominador = float(input('Digite o valor do denominador: '))\n",
        "\n",
        "divisao = numerador / denominador\n",
        "\n",
        "print(f'A divisão do {numerador} pelo {denominador} é {divisao}')"
      ],
      "metadata": {
        "id": "ytJ8l5KH8ozc",
        "colab": {
          "base_uri": "https://localhost:8080/"
        },
        "outputId": "8b7cb6df-e923-43f6-9884-a8a0ed48fe23"
      },
      "execution_count": null,
      "outputs": [
        {
          "output_type": "stream",
          "name": "stdout",
          "text": [
            "Digite o valor do numerador: 50\n",
            "Digite o valor do denominador: 10\n",
            "A divisão do 50.0 pelo 10.0 é 5.0\n"
          ]
        }
      ]
    },
    {
      "cell_type": "markdown",
      "source": [
        "#### Questão 6\n",
        "\n",
        "Crie um programa que solicite dois valores numéricos, um operador e uma potência, e realize a exponenciação entre esses dois valores.\n"
      ],
      "metadata": {
        "id": "zkUSBTQq8Hxt"
      }
    },
    {
      "cell_type": "code",
      "source": [
        "operador = float(input('Digite o valor do operador: '))\n",
        "potencia = float(input('Digite o valor do potência: '))\n",
        "\n",
        "exponenciacao = operador ** potencia\n",
        "\n",
        "print(f'A exponenciação do {operador} pelo {potencia} é {exponenciacao}')"
      ],
      "metadata": {
        "id": "RPj36jq08oZp",
        "colab": {
          "base_uri": "https://localhost:8080/"
        },
        "outputId": "f71c2805-7338-468a-87c9-b23197830a8c"
      },
      "execution_count": null,
      "outputs": [
        {
          "output_type": "stream",
          "name": "stdout",
          "text": [
            "Digite o valor do operador: 5\n",
            "Digite o valor do potência: 3\n",
            "A exponenciação do 5.0 pelo 3.0 é 125.0\n"
          ]
        }
      ]
    },
    {
      "cell_type": "markdown",
      "source": [
        "#### Questão 7\n",
        "Crie um programa que solicite dois valores numéricos, um numerador e um denominador e realize a divisão inteira entre os dois valores. Deixe claro que o valor do denominador não pode ser `0`."
      ],
      "metadata": {
        "id": "yiunIusZ8Huj"
      }
    },
    {
      "cell_type": "code",
      "source": [
        "numerador = int(input('Digite o valor do numerador: '))\n",
        "denominador = int(input('Digite o valor do denominador: '))\n",
        "\n",
        "divisao_inteira = numerador // denominador\n",
        "\n",
        "print(f'A divisão inteira do {numerador} pelo {denominador} é {divisao_inteira}')"
      ],
      "metadata": {
        "id": "UHK8xITf8oCg",
        "colab": {
          "base_uri": "https://localhost:8080/"
        },
        "outputId": "8be8cc16-87fa-4090-8392-8862f92d4c64"
      },
      "execution_count": null,
      "outputs": [
        {
          "output_type": "stream",
          "name": "stdout",
          "text": [
            "Digite o valor do numerador: 10\n",
            "Digite o valor do denominador: 3\n",
            "A divisão inteira do 10 pelo 3 é 3\n"
          ]
        }
      ]
    },
    {
      "cell_type": "markdown",
      "source": [
        "#### Questão 8\n",
        "\n",
        "Crie um programa que solicite dois valores numéricos, um numerador e um denominador, e retorne o resto da divisão entre os dois valores. Deixe claro que o valor do denominador não pode ser `0`."
      ],
      "metadata": {
        "id": "z_D_JiLX8Hra"
      }
    },
    {
      "cell_type": "code",
      "source": [
        "numerador = float(input('Digite o valor do numerador: '))\n",
        "denominador = float(input('Digite o valor do denominador: '))\n",
        "\n",
        "resto_divisao = numerador % denominador\n",
        "\n",
        "print(f'O resto da divisão do {numerador} pelo {denominador} é {resto_divisao}')"
      ],
      "metadata": {
        "id": "EWGJeukO8nqx",
        "colab": {
          "base_uri": "https://localhost:8080/"
        },
        "outputId": "f1ac86a8-cf75-49a7-aa0e-f7df6678b2e3"
      },
      "execution_count": null,
      "outputs": [
        {
          "output_type": "stream",
          "name": "stdout",
          "text": [
            "Digite o valor do numerador: 10\n",
            "Digite o valor do denominador: 3\n",
            "O resto da divisão do 10.0 pelo 3.0 é 1.0\n"
          ]
        }
      ]
    },
    {
      "cell_type": "markdown",
      "source": [
        "#### Questão 9\n",
        "\n",
        "Crie um código que solicita 3 notas de um estudante e imprima a média das notas."
      ],
      "metadata": {
        "id": "RDRajNkU8N8N"
      }
    },
    {
      "cell_type": "code",
      "source": [
        "nota_1 = float(input('Digite a primeira nota: '))\n",
        "nota_2 = float(input('Digite a segunda nota: '))\n",
        "nota_3 = float(input('Digite a terceira nota: '))\n",
        "\n",
        "media = (nota_1 + nota_2 + nota_3) / 3\n",
        "\n",
        "print(f'A média das notas é {media}')"
      ],
      "metadata": {
        "id": "H6F4Ojzt8nSR",
        "colab": {
          "base_uri": "https://localhost:8080/"
        },
        "outputId": "c55adbe8-acfd-478d-f5b5-5d0e73ae3b51"
      },
      "execution_count": null,
      "outputs": [
        {
          "output_type": "stream",
          "name": "stdout",
          "text": [
            "Digite a primeira nota: 10\n",
            "Digite a segunda nota: 8\n",
            "Digite a terceira nota: 5.5\n",
            "A média das notas é 7.833333333333333\n"
          ]
        }
      ]
    },
    {
      "cell_type": "markdown",
      "source": [
        "#### Questão 10\n",
        "\n",
        "Crie um código que calcule e imprima a média ponderada dos números 5, 12, 20 e 15 com pesos respectivamente iguais a 1, 2, 3 e 4."
      ],
      "metadata": {
        "id": "d7fjkne58N21"
      }
    },
    {
      "cell_type": "code",
      "source": [
        "n1 = 5\n",
        "n2 = 12\n",
        "n3 = 20\n",
        "n4 = 15\n",
        "\n",
        "p1 = 1\n",
        "p2 = 2\n",
        "p3 = 3\n",
        "p4 = 4\n",
        "\n",
        "media_ponderada = (n1 * p1 + n2 * p2 + n3 * p3 + n4 * p4) / (p1 + p2 + p3 + p4)\n",
        "\n",
        "print(f'A média ponderada é {media_ponderada}')"
      ],
      "metadata": {
        "id": "fwjoHlV48mkv",
        "colab": {
          "base_uri": "https://localhost:8080/"
        },
        "outputId": "8e64405e-77ef-4c57-8b20-92c9a8cd6e9d"
      },
      "execution_count": null,
      "outputs": [
        {
          "output_type": "stream",
          "name": "stdout",
          "text": [
            "A média ponderada é 14.9\n"
          ]
        }
      ]
    },
    {
      "cell_type": "markdown",
      "source": [
        "### Editando textos"
      ],
      "metadata": {
        "id": "GNmbX1OU8N0V"
      }
    },
    {
      "cell_type": "markdown",
      "source": [
        "#### Questão 1\n",
        "\n",
        "Crie uma variável chamada “`frase`” e atribua a ela uma string de sua escolha. Em seguida, imprima a frase na tela."
      ],
      "metadata": {
        "id": "6wZ85mCsRCV0"
      }
    },
    {
      "cell_type": "code",
      "source": [
        "frase = 'Há males que vêm para o bem'\n",
        "print(frase)"
      ],
      "metadata": {
        "id": "eRqr_gh-8mFy",
        "colab": {
          "base_uri": "https://localhost:8080/"
        },
        "outputId": "f247d9f1-219e-4423-af45-2be34e32f7a1"
      },
      "execution_count": null,
      "outputs": [
        {
          "output_type": "stream",
          "name": "stdout",
          "text": [
            "Há males que vêm para o bem\n"
          ]
        }
      ]
    },
    {
      "cell_type": "markdown",
      "source": [
        "#### Questão 2\n",
        "Crie um código que solicite uma frase e depois imprima a frase na tela."
      ],
      "metadata": {
        "id": "Aac17z-18Nwv"
      }
    },
    {
      "cell_type": "code",
      "source": [
        "frase = input('Digite uma frase: ')\n",
        "print(frase)"
      ],
      "metadata": {
        "id": "8zfE2hh98lb0",
        "colab": {
          "base_uri": "https://localhost:8080/"
        },
        "outputId": "8cd30942-a89c-4c2e-9689-955707a81f3c"
      },
      "execution_count": null,
      "outputs": [
        {
          "output_type": "stream",
          "name": "stdout",
          "text": [
            "Digite uma frase: Há males que vêm para o bem\n",
            "Há males que vêm para o bem\n"
          ]
        }
      ]
    },
    {
      "cell_type": "markdown",
      "source": [
        "#### Questão 3\n",
        "\n",
        "Crie um código que solicite uma frase à pessoa usuária e imprima a mesma frase digitada mas com todas as letras maiúsculas."
      ],
      "metadata": {
        "id": "DXVzqpN58Ntr"
      }
    },
    {
      "cell_type": "code",
      "source": [
        "frase = input('Digite uma frase: ')\n",
        "print(frase.upper())"
      ],
      "metadata": {
        "id": "d0VzoYP68k-I",
        "colab": {
          "base_uri": "https://localhost:8080/"
        },
        "outputId": "10064e05-4406-412f-fc71-d9b435b9b754"
      },
      "execution_count": null,
      "outputs": [
        {
          "output_type": "stream",
          "name": "stdout",
          "text": [
            "Digite uma frase: Há males que vêm para o bem\n",
            "HÁ MALES QUE VÊM PARA O BEM\n"
          ]
        }
      ]
    },
    {
      "cell_type": "markdown",
      "source": [
        "#### Questão 4\n",
        "\n",
        "Crie um código que solicite uma frase à pessoa usuária e imprima a mesma frase digitada mas com todas as letras minúsculas."
      ],
      "metadata": {
        "id": "I12VeNPK8Nqb"
      }
    },
    {
      "cell_type": "code",
      "source": [
        "frase = input('Digite uma frase: ')\n",
        "print(frase.lower())"
      ],
      "metadata": {
        "id": "KD8rNy2K8kox",
        "colab": {
          "base_uri": "https://localhost:8080/"
        },
        "outputId": "b10a36d5-a85e-49bf-82d4-4f81647131a1"
      },
      "execution_count": null,
      "outputs": [
        {
          "output_type": "stream",
          "name": "stdout",
          "text": [
            "Digite uma frase: HÁ MALES QUE VÊM PARA O BEM\n",
            "há males que vêm para o bem\n"
          ]
        }
      ]
    },
    {
      "cell_type": "markdown",
      "source": [
        "#### Questão 5\n",
        "\n",
        "Crie uma variável chamada “`frase`” e atribua a ela uma string de sua escolha. Em seguida, imprima a frase sem espaços em branco no início e no fim."
      ],
      "metadata": {
        "id": "cRqngSE48Nog"
      }
    },
    {
      "cell_type": "code",
      "source": [
        "frase = '           HÁ MALES QUE VÊM PARA O BEM               '\n",
        "print(frase.strip())"
      ],
      "metadata": {
        "id": "aSCpdF-o8kBs",
        "colab": {
          "base_uri": "https://localhost:8080/"
        },
        "outputId": "a0437a46-39da-4256-af5c-9795786102cf"
      },
      "execution_count": null,
      "outputs": [
        {
          "output_type": "stream",
          "name": "stdout",
          "text": [
            "HÁ MALES QUE VÊM PARA O BEM\n"
          ]
        }
      ]
    },
    {
      "cell_type": "markdown",
      "source": [
        "#### Questão 6\n",
        "\n",
        "Crie um código que solicite uma frase à pessoa usuária e imprima a mesma frase sem espaços em branco no início e no fim."
      ],
      "metadata": {
        "id": "murIazpQ8Nkv"
      }
    },
    {
      "cell_type": "code",
      "source": [
        "frase = input('Digite uma frase: ')\n",
        "print(frase.strip())"
      ],
      "metadata": {
        "id": "tHunjwuG8jNq",
        "colab": {
          "base_uri": "https://localhost:8080/"
        },
        "outputId": "ab52249d-7936-4a5b-8510-20361c595f37"
      },
      "execution_count": null,
      "outputs": [
        {
          "output_type": "stream",
          "name": "stdout",
          "text": [
            "Digite uma frase:            HÁ MALES QUE VÊM PARA O BEM               \n",
            "HÁ MALES QUE VÊM PARA O BEM\n"
          ]
        }
      ]
    },
    {
      "cell_type": "markdown",
      "source": [
        "#### Questão 7\n",
        "\n",
        "\n",
        "Crie um código que solicite uma frase à pessoa usuária e imprima a mesma frase sem espaços em branco no início e no fim e em letras minúsculas."
      ],
      "metadata": {
        "id": "eRxc2OeX8Nh2"
      }
    },
    {
      "cell_type": "code",
      "source": [
        "frase = input('Digite uma frase: ')\n",
        "print(frase.strip().lower())"
      ],
      "metadata": {
        "id": "DYm0_UwS8ih6",
        "colab": {
          "base_uri": "https://localhost:8080/"
        },
        "outputId": "5446e57a-f6f9-4dfb-cbe7-248ff0587778"
      },
      "execution_count": null,
      "outputs": [
        {
          "output_type": "stream",
          "name": "stdout",
          "text": [
            "Digite uma frase:            HÁ MALES QUE VÊM PARA O BEM               \n",
            "há males que vêm para o bem\n"
          ]
        }
      ]
    },
    {
      "cell_type": "markdown",
      "source": [
        "#### Questão 8\n",
        "\n",
        "Crie um código que solicite uma frase à pessoa usuária e imprima a mesma frase com todas as vogais “`e`” trocadas pela letra “`f`”."
      ],
      "metadata": {
        "id": "UKATLavs8NfI"
      }
    },
    {
      "cell_type": "code",
      "source": [
        "frase = input('Digite uma frase: ')\n",
        "print(frase.replace('e', 'f'))\n"
      ],
      "metadata": {
        "id": "k64C5G5S8iLO",
        "colab": {
          "base_uri": "https://localhost:8080/"
        },
        "outputId": "32d62c69-4ea5-40ba-a08a-29f6fdae945f"
      },
      "execution_count": null,
      "outputs": [
        {
          "output_type": "stream",
          "name": "stdout",
          "text": [
            "Digite uma frase: Gabriel é uma pessoa muito legal\n",
            "Gabrifl é uma pfssoa muito lfgal\n"
          ]
        }
      ]
    },
    {
      "cell_type": "markdown",
      "source": [
        "#### Questão 9\n",
        "\n",
        "\n",
        "Crie um código que solicite uma frase à pessoa usuária e imprima a mesma frase com todas as vogais “`a`” trocadas pela caractere  “`@`”."
      ],
      "metadata": {
        "id": "n_1SPchw8NdG"
      }
    },
    {
      "cell_type": "code",
      "source": [
        "frase = input('Digite uma frase: ')\n",
        "print(frase.replace('a', '@'))"
      ],
      "metadata": {
        "id": "msaDNm_p8h0D",
        "colab": {
          "base_uri": "https://localhost:8080/"
        },
        "outputId": "5c80adeb-55c1-48bd-8b46-8756b9772ed7"
      },
      "execution_count": null,
      "outputs": [
        {
          "output_type": "stream",
          "name": "stdout",
          "text": [
            "Digite uma frase: Gabriel é uma pessoa muito legal\n",
            "G@briel é um@ pesso@ muito leg@l\n"
          ]
        }
      ]
    },
    {
      "cell_type": "markdown",
      "source": [
        "#### Questão 10\n",
        "\n",
        "\n",
        "Crie um código que solicite uma frase à pessoa usuária e imprima a mesma frase com todas as consoantes “`s`” trocadas pelo caractere  “`$`”."
      ],
      "metadata": {
        "id": "H3sTTjqI8Naa"
      }
    },
    {
      "cell_type": "code",
      "source": [
        "frase = input('Digite uma frase: ')\n",
        "print(frase.lower().replace('s', '$'))"
      ],
      "metadata": {
        "id": "RPBIsWT68e-1",
        "colab": {
          "base_uri": "https://localhost:8080/"
        },
        "outputId": "4c312a8e-70d2-4120-db93-6503504ceac5"
      },
      "execution_count": null,
      "outputs": [
        {
          "output_type": "stream",
          "name": "stdout",
          "text": [
            "Digite uma frase: Sabrina é uma pessoa super simpática\n",
            "Sabrina é uma pe$$oa $uper $impática\n"
          ]
        }
      ]
    },
    {
      "cell_type": "markdown",
      "source": [
        "## Aula 03 - Estruturas condicionais"
      ],
      "metadata": {
        "id": "XGePe4GD2I59"
      }
    },
    {
      "cell_type": "markdown",
      "source": [
        "### Aquecendo na programação"
      ],
      "metadata": {
        "id": "Pr9HTW0UHCdD"
      }
    },
    {
      "cell_type": "markdown",
      "source": [
        "#### Questão 1\n",
        "Escreva um programa que peça à pessoa usuária para fornecer dois números e exibir o número maior."
      ],
      "metadata": {
        "id": "xBZHqhVg80Fy"
      }
    },
    {
      "cell_type": "code",
      "source": [
        "num_1 = int(input('Digite o valor do 1° numero: '))\n",
        "num_2 = int(input('Digite o valor do 2° numero: '))\n",
        "\n",
        "if num_1 > num_2:\n",
        "  print(f'O 1° numero ({num_1}) é o maior que o 2° ({num_2})')\n",
        "\n",
        "elif num_2 > num_1:\n",
        "  print(f'O 2° numero ({num_2}) é o maior que o 1° ({num_1})')\n",
        "\n",
        "else:\n",
        "  print('Os numeros são iguais!')"
      ],
      "metadata": {
        "id": "GJlGnzjc-xyF",
        "colab": {
          "base_uri": "https://localhost:8080/"
        },
        "outputId": "0cd6ab75-98e9-46bf-8743-233c0de51051"
      },
      "execution_count": null,
      "outputs": [
        {
          "output_type": "stream",
          "name": "stdout",
          "text": [
            "Digite o valor do 1° numero: 2\n",
            "Digite o valor do 2° numero: 0\n",
            "O 1° numero (2) é o maior que o 2° (0)\n"
          ]
        }
      ]
    },
    {
      "cell_type": "markdown",
      "source": [
        "#### Questão 2\n",
        "Escreva um programa que solicite o percentual de crescimento de produção de uma empresa e informe se houve um crescimento (porcentagem positiva) ou decrescimento (porcentagem negativa)."
      ],
      "metadata": {
        "id": "H4sgN7dyHNJF"
      }
    },
    {
      "cell_type": "code",
      "source": [
        "percentual = float(input(\"Digite o percentual de crescimento da produção (%): \"))\n",
        "\n",
        "if percentual > 0:\n",
        "  print(\"Houve crescimento na produção.\")\n",
        "\n",
        "elif percentual < 0:\n",
        "  print(\"Houve decrescimento na produção.\")\n",
        "\n",
        "else:\n",
        "  print('A produção se manteve estável.')"
      ],
      "metadata": {
        "id": "-2_Ry5XJ-yZW",
        "colab": {
          "base_uri": "https://localhost:8080/"
        },
        "outputId": "f77b0323-7eb6-48e7-80fe-1605ba43e521"
      },
      "execution_count": null,
      "outputs": [
        {
          "output_type": "stream",
          "name": "stdout",
          "text": [
            "Digite o percentual de crescimento da produção (%): -9.1\n",
            "Houve decrescimento na produção.\n"
          ]
        }
      ]
    },
    {
      "cell_type": "markdown",
      "source": [
        "#### Questão 3\n",
        "Escreva um programa que determine se uma letra fornecida pela pessoa usuária é uma vogal ou consoante."
      ],
      "metadata": {
        "id": "a_mzNOBDHNny"
      }
    },
    {
      "cell_type": "code",
      "source": [
        "vogais = 'aeiou'\n",
        "\n",
        "letra = input('Digite uma letra: ').lower()\n",
        "\n",
        "if letra in vogais:\n",
        "  print(f'A letra {letra} é uma VOGAL!')\n",
        "\n",
        "else:\n",
        "  print(f'A letra {letra} é uma CONSOANTE!')"
      ],
      "metadata": {
        "id": "NbgndVyg-zFJ",
        "colab": {
          "base_uri": "https://localhost:8080/"
        },
        "outputId": "7bedce1f-e69a-43e3-e330-a1e7dc2efe34"
      },
      "execution_count": null,
      "outputs": [
        {
          "output_type": "stream",
          "name": "stdout",
          "text": [
            "Digite uma letra: O\n",
            "A letra o é uma VOGAL!\n"
          ]
        }
      ]
    },
    {
      "cell_type": "markdown",
      "source": [
        "#### Questão 4\n",
        "Escreva um programa que leia valores médios de preços de um modelo de carro por 3 anos consecutivos e exiba o valor mais alto e mais baixo entre esses três anos."
      ],
      "metadata": {
        "id": "mofMRjSZHP99"
      }
    },
    {
      "cell_type": "code",
      "source": [
        "vl_carro_1 = float(input('Digite o valor do carro no 1° ano (R$): '))\n",
        "vl_carro_2 = float(input('Digite o valor do carro no 2° ano (R$): '))\n",
        "vl_carro_3 = float(input('Digite o valor do carro no 3° ano (R$): '))\n",
        "\n",
        "if vl_carro_1 > vl_carro_2 > vl_carro_3:\n",
        "  print(f'O valor mais alto foi de R$ {vl_carro_1} no 1° ano!')\n",
        "  print(f'O valor mais baixo foi de R$ {vl_carro_3} no 3° ano!')\n",
        "\n",
        "elif vl_carro_1 > vl_carro_3 > vl_carro_2:\n",
        "  print(f'O valor mais alto foi de R$ {vl_carro_1} no 1° ano!')\n",
        "  print(f'O valor mais baixo foi de R$ {vl_carro_2} no 2° ano!')\n",
        "\n",
        "elif vl_carro_2 > vl_carro_1 > vl_carro_3:\n",
        "  print(f'O valor mais alto foi de R$ {vl_carro_2} no 2° ano!')\n",
        "  print(f'O valor mais baixo foi de R$ {vl_carro_3} no 3° ano!')\n",
        "\n",
        "elif vl_carro_2 > vl_carro_3 > vl_carro_1:\n",
        "  print(f'O valor mais alto foi de R$ {vl_carro_2} no 2° ano!')\n",
        "  print(f'O valor mais baixo foi de R$ {vl_carro_1} no 1° ano!')\n",
        "\n",
        "elif vl_carro_3 > vl_carro_2 > vl_carro_1:\n",
        "  print(f'O valor mais alto foi de R$ {vl_carro_3} no 3° ano!')\n",
        "  print(f'O valor mais baixo foi de R$ {vl_carro_1} no 1° ano!')\n",
        "\n",
        "elif vl_carro_3 > vl_carro_1 > vl_carro_2:\n",
        "  print(f'O valor mais alto foi de R$ {vl_carro_3} no 3° ano!')\n",
        "  print(f'O valor mais baixo foi de R$ {vl_carro_2} no 2° ano!')\n",
        "\n",
        "else:\n",
        "  print('O carro manteve o valor nos 3 anos!')"
      ],
      "metadata": {
        "id": "TX--d3k9-02c",
        "colab": {
          "base_uri": "https://localhost:8080/"
        },
        "outputId": "757f5374-bed4-42ba-aaba-e2fbc6270af7"
      },
      "execution_count": null,
      "outputs": [
        {
          "output_type": "stream",
          "name": "stdout",
          "text": [
            "Digite o valor do carro no 1° ano (R$): 9800\n",
            "Digite o valor do carro no 2° ano (R$): 12000\n",
            "Digite o valor do carro no 3° ano (R$): 25000\n",
            "O valor mais alto foi de R$ 25000.0 no 3° ano!\n",
            "O valor mais baixo foi de R$ 9800.0 no 1° ano!\n"
          ]
        }
      ]
    },
    {
      "cell_type": "markdown",
      "source": [
        "#### Questão 5\n",
        "Escreva um programa que pergunte sobre o preço de três produtos e indique qual é o produto mais barato para comprar."
      ],
      "metadata": {
        "id": "jY5tIwd-HQzc"
      }
    },
    {
      "cell_type": "code",
      "source": [
        "vl_prod_1 = float(input('Digite o valor do 1° produto (R$): '))\n",
        "vl_prod_2 = float(input('Digite o valor do 2° produto (R$): '))\n",
        "vl_prod_3 = float(input('Digite o valor do 3° produto (R$): '))\n",
        "\n",
        "if (vl_prod_1 > vl_prod_2 > vl_prod_3) or (vl_prod_2 > vl_prod_1 > vl_prod_3):\n",
        "  print(f'O 3° produto é o mais barato a se comprar, R$ {vl_prod_3}')\n",
        "\n",
        "elif (vl_prod_1 > vl_prod_3) > vl_prod_2 or (vl_prod_3 > vl_prod_1 > vl_prod_2):\n",
        "  print(f'O 2° produto é o mais barato a se comprar, R$ {vl_prod_2}')\n",
        "\n",
        "elif (vl_prod_2 > vl_prod_3 > vl_prod_1) or (vl_prod_3 > vl_prod_2 > vl_prod_1):\n",
        "  print(f'O 1° produto é o mais barato a se comprar, R$ {vl_prod_1}')\n",
        "\n",
        "else:\n",
        "  print('Os produtos possuem o mesmo valor!')"
      ],
      "metadata": {
        "id": "sYqNh9df-0gk",
        "colab": {
          "base_uri": "https://localhost:8080/"
        },
        "outputId": "1f47306f-d2fd-4039-8f18-3ca4a2c44ec0"
      },
      "execution_count": null,
      "outputs": [
        {
          "output_type": "stream",
          "name": "stdout",
          "text": [
            "Digite o valor do 1° produto (R$): 500\n",
            "Digite o valor do 2° produto (R$): 61\n",
            "Digite o valor do 3° produto (R$): 900\n",
            "O 2° produto é o mais barato a se comprar, R$ 61.0\n"
          ]
        }
      ]
    },
    {
      "cell_type": "markdown",
      "source": [
        "#### Questão 6\n",
        "Escreva um programa que leia três números e os exiba em ordem decrescente."
      ],
      "metadata": {
        "id": "1r6aVxtTHR4E"
      }
    },
    {
      "cell_type": "code",
      "source": [
        "num_1 = int(input('Digite o valor do 1° numero: '))\n",
        "num_2 = int(input('Digite o valor do 2° numero: '))\n",
        "num_3 = int(input('Digite o valor do 3° numero: '))\n",
        "\n",
        "if num_1 > num_2 > num_3:\n",
        "  print(f'Ordem decrescente: {num_1}, {num_2}, {num_3}')\n",
        "\n",
        "elif num_1 > num_3 > num_2:\n",
        "  print(f'Ordem decrescente: {num_1}, {num_3}, {num_2}')\n",
        "\n",
        "elif num_2 > num_1 > num_3:\n",
        "  print(f'Ordem decrescente: {num_2}, {num_1}, {num_3}')\n",
        "\n",
        "elif num_2 > num_3 > num_1:\n",
        "  print(f'Ordem decrescente: {num_2}, {num_3}, {num_1}')\n",
        "\n",
        "elif num_3 > num_1 > num_2:\n",
        "  print(f'Ordem decrescente: {num_3}, {num_1}, {num_2}')\n",
        "\n",
        "elif num_3 > num_2 > num_1:\n",
        "  print(f'Ordem decrescente: {num_3}, {num_2}, {num_1}')\n",
        "\n",
        "else:\n",
        "  print('Os 3 numeros digitados possuem o mesmo valor, impossivel ordenar')"
      ],
      "metadata": {
        "id": "ydOCYUMO-0Hk",
        "colab": {
          "base_uri": "https://localhost:8080/"
        },
        "outputId": "ba017a18-157d-44b6-d94f-d17ce4fe4ec5"
      },
      "execution_count": null,
      "outputs": [
        {
          "output_type": "stream",
          "name": "stdout",
          "text": [
            "Digite o valor do 1° numero: 10\n",
            "Digite o valor do 2° numero: 90\n",
            "Digite o valor do 3° numero: 120\n",
            "Ordem decrescente: 120, 90, 10\n"
          ]
        }
      ]
    },
    {
      "cell_type": "markdown",
      "source": [
        "#### Questão 7\n",
        "Escreva um programa que pergunte em qual turno a pessoa usuária estuda (\"manhã\", \"tarde\" ou \"noite\") e exiba a mensagem \"Bom Dia!\", \"Boa Tarde!\", \"Boa Noite!\", ou \"Valor Inválido!\", conforme o caso."
      ],
      "metadata": {
        "id": "inW3F-hAHS_X"
      }
    },
    {
      "cell_type": "code",
      "source": [
        "nome = input ('Digite o seu nome: ')\n",
        "turno = input('Você estuda em qual turno? (manhã, tarde ou noite): ').lower()\n",
        "\n",
        "if turno == 'manhã':\n",
        "  print(f'Bom dia, {nome}!')\n",
        "\n",
        "elif turno == 'tarde':\n",
        "  print(f'Boa tarde, {nome}!')\n",
        "\n",
        "elif turno == 'noite':\n",
        "  print(f'Boa noite, {nome}!')\n",
        "\n",
        "else:\n",
        "  print(f'Valor do turno inválido, favor tentar novamente, {nome}.')"
      ],
      "metadata": {
        "id": "-_q-Pcr_-zth",
        "colab": {
          "base_uri": "https://localhost:8080/"
        },
        "outputId": "637344f7-9d95-4a05-fd94-a88b4955027e"
      },
      "execution_count": null,
      "outputs": [
        {
          "output_type": "stream",
          "name": "stdout",
          "text": [
            "Digite o seu nome: Benicio\n",
            "Você estuda em qual turno? (manhã, tarde ou noite): Não sei\n",
            "Valor do turno inválido, favor tentar novamente, Benicio.\n"
          ]
        }
      ]
    },
    {
      "cell_type": "markdown",
      "source": [
        "#### Questão 8\n",
        "Escreva um programa que peça um número inteiro à pessoa usuária e determine se ele é par ou ímpar. Dica: Você pode utilizar o operador módulo `%`."
      ],
      "metadata": {
        "id": "NCCPF3QqHTw-"
      }
    },
    {
      "cell_type": "code",
      "source": [
        "numero = int(input('Digite um numero inteiro: '))\n",
        "\n",
        "if numero % 2 == 0:\n",
        "  print(f'O numero {numero} é PAR!')\n",
        "\n",
        "else:\n",
        "  print(f'O numero {numero} é ÍMPAR!')"
      ],
      "metadata": {
        "id": "OmZJt1nQ-3e6",
        "colab": {
          "base_uri": "https://localhost:8080/"
        },
        "outputId": "cec579b3-607f-42f3-d320-495839f3a9fd"
      },
      "execution_count": null,
      "outputs": [
        {
          "output_type": "stream",
          "name": "stdout",
          "text": [
            "Digite um numero inteiro: 7\n",
            "O numero 7 é ÍMPAR!\n"
          ]
        }
      ]
    },
    {
      "cell_type": "markdown",
      "source": [
        "#### Questão 9\n",
        "Escreva um programa que peça um número à pessoa usuária e informe se ele é inteiro ou decimal."
      ],
      "metadata": {
        "id": "h93Ck1tQHUwE"
      }
    },
    {
      "cell_type": "code",
      "source": [
        "numero = float(input('Digite um numero: '))\n",
        "\n",
        "if numero % 1 == 0:\n",
        "  print(f'O numero {numero} é INTEIRO')\n",
        "\n",
        "else:\n",
        "  print(f'O numero {numero} é DECIMAL')"
      ],
      "metadata": {
        "id": "sLMlZcx8-20N",
        "colab": {
          "base_uri": "https://localhost:8080/"
        },
        "outputId": "82e1f199-96af-4c37-a8c7-72fe24ba6e51"
      },
      "execution_count": null,
      "outputs": [
        {
          "output_type": "stream",
          "name": "stdout",
          "text": [
            "Digite um numero: 25.2\n",
            "O numero 25.2 é DECIMAL\n"
          ]
        }
      ]
    },
    {
      "cell_type": "markdown",
      "source": [
        "### Momento dos projetos"
      ],
      "metadata": {
        "id": "bKdXSK1SH_pF"
      }
    },
    {
      "cell_type": "markdown",
      "source": [
        "#### Questão 10\n",
        "Um programa deve ser escrito para ler dois números e, em seguida, perguntar à pessoa usuária qual operação ele deseja realizar. O resultado da operação deve incluir informações sobre o número - se é par ou ímpar, positivo ou negativo e inteiro ou decimal."
      ],
      "metadata": {
        "id": "WBlEyyzsHV86"
      }
    },
    {
      "cell_type": "code",
      "source": [
        "num_1 = float(input('Digite o valor do 1° número: '))\n",
        "num_2 = float(input('Digite o valor do 2° número: '))\n",
        "\n",
        "opcao = int(input(\n",
        "    'Opções:\\n'\n",
        "    '(1). Soma \\n'\n",
        "    '(2). Subtração \\n'\n",
        "    '(3). Multiplicação \\n'\n",
        "    '(4). Divisão \\n'\n",
        "    '(5). Exponenciação \\n'\n",
        "    '(6). Média \\n'\n",
        "    'Digite o que precisa ser feito: '\n",
        "))\n",
        "\n",
        "# Calcula o resultado e o nome da operação\n",
        "if opcao == 1:\n",
        "    resultado = num_1 + num_2\n",
        "    nome = 'soma'\n",
        "elif opcao == 2:\n",
        "    resultado = num_1 - num_2\n",
        "    nome = 'subtração'\n",
        "elif opcao == 3:\n",
        "    resultado = num_1 * num_2\n",
        "    nome = 'multiplicação'\n",
        "elif opcao == 4:\n",
        "    if num_2 == 0:\n",
        "        print('Erro: divisão por zero não é permitida.')\n",
        "        exit()\n",
        "    resultado = num_1 / num_2\n",
        "    nome = 'divisão'\n",
        "elif opcao == 5:\n",
        "    resultado = num_1 ** num_2   # continue usando ** (está ok!)\n",
        "    nome = 'exponenciação'\n",
        "elif opcao == 6:\n",
        "    resultado = (num_1 + num_2) / 2\n",
        "    nome = 'média'\n",
        "else:\n",
        "    print('Opção inválida, tente novamente depois!')\n",
        "    exit()\n",
        "\n",
        "print(f'O resultado da {nome} entre {num_1} e {num_2} é {resultado}')\n",
        "\n",
        "# ---- Classificações ----\n",
        "# Inteiro ou decimal\n",
        "eh_inteiro = (resultado % 1 == 0)\n",
        "\n",
        "# Par/ímpar (só se for inteiro)\n",
        "if eh_inteiro:\n",
        "    if resultado % 2 == 0:\n",
        "        print('PAR')\n",
        "    else:\n",
        "        print('ÍMPAR')\n",
        "else:\n",
        "    print('DECIMAL (não é par/ímpar)')\n",
        "\n",
        "# Positivo, negativo ou zero\n",
        "if resultado > 0:\n",
        "    print('POSITIVO')\n",
        "elif resultado < 0:\n",
        "    print('NEGATIVO')\n",
        "else:\n",
        "    print('ZERO (neutro)')\n",
        "\n",
        "# Reforço do tipo numérico\n",
        "if eh_inteiro:\n",
        "    print('INTEIRO')\n",
        "else:\n",
        "    print('DECIMAL')\n"
      ],
      "metadata": {
        "id": "3jmahZ0f-2gq",
        "colab": {
          "base_uri": "https://localhost:8080/"
        },
        "outputId": "f688b6fd-4487-486e-b610-cd9e13e5d063"
      },
      "execution_count": null,
      "outputs": [
        {
          "output_type": "stream",
          "name": "stdout",
          "text": [
            "Digite o valor do 1° número: 10\n",
            "Digite o valor do 2° número: 2\n",
            "Opções:\n",
            "(1). Soma \n",
            "(2). Subtração \n",
            "(3). Multiplicação \n",
            "(4). Divisão \n",
            "(5). Exponenciação \n",
            "(6). Média \n",
            "Digite o que precisa ser feito: 4\n",
            "O resultado da divisão entre 10.0 e 2.0 é 5.0\n",
            "ÍMPAR\n",
            "POSITIVO\n",
            "INTEIRO\n"
          ]
        }
      ]
    },
    {
      "cell_type": "markdown",
      "source": [
        "#### Questão 11\n",
        "Escreva um programa que peça à pessoa usuária três números que representam os lados de um triângulo. O programa deve informar se os valores podem ser utilizados para formar um triângulo e, caso afirmativo, se ele é equilátero, isósceles ou escaleno. Tenha em mente algumas dicas:\n",
        "- Três lados formam um triângulo quando a soma de quaisquer dois lados for maior que o terceiro;\n",
        "- Triângulo Equilátero: três lados iguais;\n",
        "- Triângulo Isósceles: quaisquer dois lados iguais;\n",
        "- Triângulo Escaleno: três lados diferentes;\n"
      ],
      "metadata": {
        "id": "VdnlULxHHW19"
      }
    },
    {
      "cell_type": "code",
      "source": [
        "num_1 = float(input('Digite o valor 1° lado: '))\n",
        "num_2 = float(input('Digite o valor 2° lado: '))\n",
        "num_3 = float(input('Digite o valor 3° lado: '))\n",
        "\n",
        "if (num_1 + num_2 > num_3) and (num_1 + num_3 > num_2) and (num_2 + num_3 > num_1):\n",
        "  if (num_1 == num_2 and num_2 == num_3):\n",
        "    print('Triângulo Equilátero')\n",
        "\n",
        "  elif (num_1 == num_2 or num_1 == num_3 or num_2 == num_3):\n",
        "    print('Triângulo Isósceles')\n",
        "\n",
        "  else:\n",
        "    print('Triângulo Escaleno')\n",
        "\n",
        "else:\n",
        "   print('Os valores informados não formam um triângulo')"
      ],
      "metadata": {
        "id": "0z73sqUO-2Pw",
        "colab": {
          "base_uri": "https://localhost:8080/"
        },
        "outputId": "397a79b2-f824-4dae-eecc-f8435c5b1d2d"
      },
      "execution_count": null,
      "outputs": [
        {
          "output_type": "stream",
          "name": "stdout",
          "text": [
            "Digite o valor 1° lado: 10\n",
            "Digite o valor 2° lado: 8\n",
            "Digite o valor 3° lado: 6\n",
            "Triângulo Escaleno\n"
          ]
        }
      ]
    },
    {
      "cell_type": "markdown",
      "source": [
        "#### Questão 12\n",
        "Um estabelecimento está vendendo combustíveis com descontos variados. Para o etanol, se a quantidade comprada for até 15 litros, o desconto será de 2% por litro. Caso contrário, será de 4% por litro. Para o diesel, se a quantidade comprada for até 15 litros, o desconto será de 3% por litro. Caso contrário, será de 5% por litro. O preço do litro de diesel é R\\$ 2,00 e o preço do litro de etanol é R\\$ 1,70. Escreva um programa que leia a quantidade de litros vendidos e o tipo de combustível (E para etanol e D para diesel) e calcule o valor a ser pago pelo cliente. Tenha em mente algumas dicas:\n",
        "\n",
        "- O do valor do desconto será a multiplicação entre preço do litro, quantidade de litros e o valor do desconto.\n",
        "- O valor a ser pago por um cliente será o resultado da multiplicação do preço do litro pela quantidade de litros menos o valor de desconto resultante do cálculo.\n"
      ],
      "metadata": {
        "id": "_PpEpOugHXwZ"
      }
    },
    {
      "cell_type": "code",
      "source": [
        "litros = float(input('Digite a quantidade de litros: '))\n",
        "combustivel = input('Digite o desejado: \\n'\n",
        "                    '(E) Etanol \\n'\n",
        "                    '(D) Diesel\\n'\n",
        "                  ).upper()\n",
        "\n",
        "if (combustivel == 'E'):  # Valor do Etanol R$1,70 o litro\n",
        "  if (litros <= 15):\n",
        "    # desconto 2% por litro\n",
        "    valor_total = (litros * 1.70) * (1 - 0.02)\n",
        "    print(f'Para {litros} litros de Etanol, irá custar R$ {valor_total:.2f}')\n",
        "  else:\n",
        "    # desconto 4% por litro\n",
        "    valor_total = (litros * 1.70) * (1 - 0.04)\n",
        "    print(f'Para {litros} litros de Etanol, irá custar R$ {valor_total:.2f}')\n",
        "\n",
        "elif (combustivel == 'D'):  # Valor do Diesel R$2,00 o litro\n",
        "  if (litros <= 15):\n",
        "    # desconto 3% por litro\n",
        "    valor_total = (litros * 2.00) * (1 - 0.03)\n",
        "    print(f'Para {litros} litros de Diesel, irá custar R$ {valor_total:.2f}')\n",
        "  else:\n",
        "    # desconto 5% por litro\n",
        "    valor_total = (litros * 2.00) * (1 - 0.05)\n",
        "    print(f'Para {litros} litros de Diesel, irá custar R$ {valor_total:.2f}')\n",
        "\n",
        "else:\n",
        "  print('Valor incorreto')\n"
      ],
      "metadata": {
        "id": "9izoF-0O-1yD",
        "colab": {
          "base_uri": "https://localhost:8080/"
        },
        "outputId": "3fe29020-5876-4780-fb1f-596c31c6806e"
      },
      "execution_count": null,
      "outputs": [
        {
          "output_type": "stream",
          "name": "stdout",
          "text": [
            "Digite a quantidade de litros: 10\n",
            "Digite o desejado: \n",
            "(E) Etanol \n",
            "(D) Diesel\n",
            "E\n",
            "Para 10.0 litros de Etanol, irá custar R$ 16.66\n"
          ]
        }
      ]
    },
    {
      "cell_type": "markdown",
      "source": [
        "#### Questão 13\n",
        "Em uma empresa de venda de imóveis você precisa criar um código que analise os dados de vendas anuais para ajudar a diretoria na tomada de decisão. O código precisa coletar os dados de quantidade de venda durante os anos de 2022 e 2023 e fazer um cálculo de variação percentual. A partir do valor da variação, deve ser enviada às seguintes sugestões:\n",
        "- Para variação acima de 20%: bonificação para o time de vendas.\n",
        "- Para variação entre 2% e 20%: pequena bonificação para time de vendas.\n",
        "- Para variação entre 2% e -10%: planejamento de políticas de incentivo às vendas.\n",
        "- Para bonificações abaixo de -10%: corte de gastos.\n"
      ],
      "metadata": {
        "id": "s_XS_D1WHY2R"
      }
    },
    {
      "cell_type": "code",
      "source": [
        "vendas_22 = float(input('Quantidade de vendas em 2022: '))\n",
        "vendas_23 = float(input('Quantidade de vendas em 2023: '))\n",
        "\n",
        "variacao = ((vendas_23 - vendas_22) / vendas_22) * 100\n",
        "\n",
        "if (variacao > 20):\n",
        "  print(f'A variação foi de {variacao}\\nBONIFICAÇÃO PARA O TIME DE VENDAS!')\n",
        "\n",
        "elif (2 < variacao <= 20):\n",
        "  print(f'A variação foi de {variacao}\\nPEQUENA BONIFICAÇÃO PARA O TIME DE VENDAS!')\n",
        "\n",
        "elif (-10 < variacao <= 2):\n",
        "  print(f'A variação foi de {variacao}\\nPLANEJAMENTO DE POLÍTICAS DE INCENTIVO ÁS VENDAS!')\n",
        "\n",
        "else:\n",
        "  print(f'A variação foi de {variacao}\\nCORTE DE GASTOS!')"
      ],
      "metadata": {
        "id": "avQrYlUg-w8f",
        "colab": {
          "base_uri": "https://localhost:8080/"
        },
        "outputId": "0669149c-8c97-4eb0-e86e-915b194ff122"
      },
      "execution_count": null,
      "outputs": [
        {
          "output_type": "stream",
          "name": "stdout",
          "text": [
            "Quantidade de vendas em 2022: 100\n",
            "Quantidade de vendas em 2023: 115\n",
            "A variação foi de 15.0\n",
            "PEQUENA BONIFICAÇÃO PARA O TIME DE VENDAS!\n"
          ]
        }
      ]
    },
    {
      "cell_type": "markdown",
      "source": [
        "## Aula 4 - Estruturas de repetição"
      ],
      "metadata": {
        "id": "AuaWh4-d2Itt"
      }
    },
    {
      "cell_type": "markdown",
      "source": [
        "### Aquecendo na programação"
      ],
      "metadata": {
        "id": "6MSqU0sIJRdD"
      }
    },
    {
      "cell_type": "markdown",
      "source": [
        "#### Questão 1\n",
        "Escreva um programa que peça dois números inteiros e imprima todos os números inteiros entre eles."
      ],
      "metadata": {
        "id": "9eGGyCnAJRdQ"
      }
    },
    {
      "cell_type": "code",
      "source": [
        "for i in range(1, 3):\n",
        "  numero = int(input('Digite um numero inteiro: '))\n",
        "  print(f'Numero digitado: {numero}')"
      ],
      "metadata": {
        "id": "ID1oc1hxJRdQ",
        "colab": {
          "base_uri": "https://localhost:8080/"
        },
        "outputId": "333234fd-8b17-40cd-cd29-5993ca91edf8"
      },
      "execution_count": null,
      "outputs": [
        {
          "output_type": "stream",
          "name": "stdout",
          "text": [
            "Digite um numero inteiro: 10\n",
            "Numero digitado: 10\n",
            "Digite um numero inteiro: 5\n",
            "Numero digitado: 5\n"
          ]
        }
      ]
    },
    {
      "cell_type": "markdown",
      "source": [
        "#### Questão 2\n",
        "Escreva um programa para calcular quantos dias levará para a colônia de uma bactéria A ultrapassar ou igualar a colônia de uma bactéria B, com base nas taxas de crescimento de 3% e 1,5% respectivamente. Considere que a colônia A inicia com 4 elementos e a colônia B com 10 elementos."
      ],
      "metadata": {
        "id": "mGonEHYCJRdR"
      }
    },
    {
      "cell_type": "code",
      "source": [
        "# Populações iniciais\n",
        "colonia_A = 4\n",
        "colonia_B = 10\n",
        "\n",
        "# Taxas de crescimento\n",
        "taxa_A = 0.03  # 3%\n",
        "taxa_B = 0.015 # 1,5%\n",
        "\n",
        "dias = 0\n",
        "\n",
        "# Simulação diária\n",
        "while colonia_A < colonia_B:\n",
        "    colonia_A += colonia_A * taxa_A\n",
        "    colonia_B += colonia_B * taxa_B\n",
        "    dias += 1\n",
        "\n",
        "print(f\"A colônia A ultrapassará ou igualará a colônia B em {dias} dias.\")\n",
        "print(f\"Tamanho final da colônia A: {colonia_A:.2f}\")\n",
        "print(f\"Tamanho final da colônia B: {colonia_B:.2f}\")\n"
      ],
      "metadata": {
        "id": "wM6FJuoqJRdR",
        "colab": {
          "base_uri": "https://localhost:8080/"
        },
        "outputId": "2d1e14f4-3595-45a6-f337-41df56d63774"
      },
      "execution_count": null,
      "outputs": [
        {
          "output_type": "stream",
          "name": "stdout",
          "text": [
            "A colônia A ultrapassará ou igualará a colônia B em 63 dias.\n",
            "Tamanho final da colônia A: 25.75\n",
            "Tamanho final da colônia B: 25.55\n"
          ]
        }
      ]
    },
    {
      "cell_type": "markdown",
      "source": [
        "#### Questão 3\n",
        "Para tratar uma quantidade de 15 dados de avaliações de pessoas usuárias de um serviço da empresa, precisamos verificar se as notas são válidas. Então, escreva um programa que vai receber a nota de 0 a 5 de todos os dados e verificar se é um valor válido. Caso seja inserido uma nota acima de 5 ou abaixo de 0, repita até que a pessoa usuária insira um valor válido."
      ],
      "metadata": {
        "id": "UiOZRlqoJRdR"
      }
    },
    {
      "cell_type": "code",
      "source": [
        "notas = []  # lista para guardar as 15 notas válidas\n",
        "\n",
        "# Vamos repetir 15 vezes\n",
        "for i in range(15):\n",
        "    while True:  # loop infinito até digitar uma nota válida\n",
        "        nota = float(input(f\"Digite a nota {i+1} (entre 0 e 5): \"))\n",
        "\n",
        "        if 0 <= nota <= 5:  # verifica se está no intervalo válido\n",
        "            notas.append(nota)  # guarda a nota\n",
        "            break  # sai do while e vai para a próxima nota\n",
        "        else:\n",
        "            print(\"Nota inválida! Digite um valor entre 0 e 5.\")\n",
        "\n",
        "# Mostrar todas as notas válidas no final\n",
        "print(\"\\nAs notas válidas inseridas foram:\")\n",
        "print(notas)\n"
      ],
      "metadata": {
        "id": "3TUAhCxcJRdR",
        "colab": {
          "base_uri": "https://localhost:8080/"
        },
        "outputId": "0cd378ba-4054-450b-8a01-e4fb89a7ba78"
      },
      "execution_count": null,
      "outputs": [
        {
          "output_type": "stream",
          "name": "stdout",
          "text": [
            "Digite a nota 1 (entre 0 e 5): -1\n",
            "Nota inválida! Digite um valor entre 0 e 5.\n",
            "Digite a nota 1 (entre 0 e 5): 10\n",
            "Nota inválida! Digite um valor entre 0 e 5.\n",
            "Digite a nota 1 (entre 0 e 5): 5\n",
            "Digite a nota 2 (entre 0 e 5): 3\n",
            "Digite a nota 3 (entre 0 e 5): 2\n",
            "Digite a nota 4 (entre 0 e 5): 1\n",
            "Digite a nota 5 (entre 0 e 5): 5\n",
            "Digite a nota 6 (entre 0 e 5): 6\n",
            "Nota inválida! Digite um valor entre 0 e 5.\n",
            "Digite a nota 6 (entre 0 e 5): 7\n",
            "Nota inválida! Digite um valor entre 0 e 5.\n",
            "Digite a nota 6 (entre 0 e 5): 2\n",
            "Digite a nota 7 (entre 0 e 5): 1\n",
            "Digite a nota 8 (entre 0 e 5): 3\n",
            "Digite a nota 9 (entre 0 e 5): 4\n",
            "Digite a nota 10 (entre 0 e 5): 2\n",
            "Digite a nota 11 (entre 0 e 5): 1\n",
            "Digite a nota 12 (entre 0 e 5): 2\n",
            "Digite a nota 13 (entre 0 e 5): 3\n",
            "Digite a nota 14 (entre 0 e 5): 4\n",
            "Digite a nota 15 (entre 0 e 5): 5\n",
            "\n",
            "As notas válidas inseridas foram:\n",
            "[5.0, 3.0, 2.0, 1.0, 5.0, 2.0, 1.0, 3.0, 4.0, 2.0, 1.0, 2.0, 3.0, 4.0, 5.0]\n"
          ]
        }
      ]
    },
    {
      "cell_type": "markdown",
      "source": [
        "#### Questão 4\n",
        "Desenvolva um programa que leia um conjunto indeterminado de temperaturas em Celsius e faça uma análise. Portanto, escreva um programa que leia temperaturas e informe a média delas. A leitura deve ser encerrada ao ser enviado o valor -273°C."
      ],
      "metadata": {
        "id": "ABv3KObGJRdR"
      }
    },
    {
      "cell_type": "code",
      "source": [
        "lista_temp = []\n",
        "\n",
        "while True:\n",
        "    temp = int(input('Digite uma temperatura (Celsius): '))\n",
        "    if temp == -273:  # condição de parada\n",
        "        break\n",
        "    lista_temp.append(temp)\n",
        "\n",
        "# só calcula a média se a lista não estiver vazia\n",
        "if lista_temp:\n",
        "    media_temp = sum(lista_temp) / len(lista_temp)\n",
        "    print(f'A média de temperaturas é de {media_temp:.2f} °C')\n",
        "else:\n",
        "    print(\"Nenhuma temperatura válida foi inserida.\")\n"
      ],
      "metadata": {
        "id": "85tBBj5KJRdS",
        "colab": {
          "base_uri": "https://localhost:8080/"
        },
        "outputId": "4de982c8-7c1a-4d78-a72b-9d97b1d14ab8"
      },
      "execution_count": null,
      "outputs": [
        {
          "output_type": "stream",
          "name": "stdout",
          "text": [
            "Digite uma temperatura (Celsius): 10\n",
            "Digite uma temperatura (Celsius): 50\n",
            "Digite uma temperatura (Celsius): -10\n",
            "Digite uma temperatura (Celsius): 30\n",
            "Digite uma temperatura (Celsius): 25\n",
            "Digite uma temperatura (Celsius): 11\n",
            "Digite uma temperatura (Celsius): 12\n",
            "Digite uma temperatura (Celsius): 31\n",
            "Digite uma temperatura (Celsius): -273\n",
            "A média de temperaturas é de 19.88 °C\n"
          ]
        }
      ]
    },
    {
      "cell_type": "markdown",
      "source": [
        "#### Questão 5\n",
        "Escreva um programa que calcule o fatorial de um número inteiro fornecido pela pessoa usuária. O fatorial de um número inteiro é a multiplicação desse número por todos os seus antecessores até o número 1. Por exemplo, o fatorial de 5 é 5 x 4 x 3 x 2 x 1 = 120."
      ],
      "metadata": {
        "id": "IjkbAfGcJRdS"
      }
    },
    {
      "cell_type": "code",
      "source": [
        "numero = int(input('Digite um número inteiro: '))\n",
        "\n",
        "resultado = 1\n",
        "i = 1\n",
        "while i <= numero:\n",
        "    resultado *= i\n",
        "    i += 1\n",
        "\n",
        "print(f\"O fatorial de {numero} é {resultado}\")\n"
      ],
      "metadata": {
        "id": "7RTH8o0HJRdS",
        "colab": {
          "base_uri": "https://localhost:8080/"
        },
        "outputId": "6f2c0185-0392-4a9d-c2b6-a157aa50aa1f"
      },
      "execution_count": null,
      "outputs": [
        {
          "output_type": "stream",
          "name": "stdout",
          "text": [
            "Digite um número inteiro: 10\n",
            "O fatorial de 10 é 3628800\n"
          ]
        }
      ]
    },
    {
      "cell_type": "markdown",
      "source": [
        "### Momento dos projetos"
      ],
      "metadata": {
        "id": "oGNKuQjsJRdT"
      }
    },
    {
      "cell_type": "markdown",
      "source": [
        "#### Questão 6\n",
        "Escreva um programa que gere a tabuada de um número inteiro de 1 a 10, de acordo com a escolha da pessoa usuária. Como exemplo, para o número 2, a tabuada deve ser mostrada no seguinte formato:\n",
        "```\n",
        "Tabuada do 2:\n",
        "2 x 1 = 2\n",
        "2 x 2 = 4\n",
        "[...]\n",
        "2 x 10 = 20\n",
        "```"
      ],
      "metadata": {
        "id": "ODxaTUYmJRdS"
      }
    },
    {
      "cell_type": "code",
      "source": [
        "numero = int(input('Digite um numero inteiro de 1 a 10: '))\n",
        "\n",
        "for i in range(1, 11):\n",
        "  mult = i * numero\n",
        "  print(f'{numero} x {i} = {mult}')"
      ],
      "metadata": {
        "id": "lkTlbxPIJRdS",
        "colab": {
          "base_uri": "https://localhost:8080/"
        },
        "outputId": "05dfb110-47b7-4c87-bd25-50c294578b42"
      },
      "execution_count": null,
      "outputs": [
        {
          "output_type": "stream",
          "name": "stdout",
          "text": [
            "Digite um numero inteiro de 1 a 10: 2\n",
            "2 x 1 = 2\n",
            "2 x 2 = 4\n",
            "2 x 3 = 6\n",
            "2 x 4 = 8\n",
            "2 x 5 = 10\n",
            "2 x 6 = 12\n",
            "2 x 7 = 14\n",
            "2 x 8 = 16\n",
            "2 x 9 = 18\n",
            "2 x 10 = 20\n"
          ]
        }
      ]
    },
    {
      "cell_type": "markdown",
      "source": [
        "#### Questão 7\n",
        "Os números primos possuem várias aplicações dentro da Ciência de Dados, por exemplo, na criptografia e segurança. Um número primo é aquele que é divisível apenas por um e por ele mesmo. Faça um programa que peça um número inteiro e determine se ele é ou não um número primo."
      ],
      "metadata": {
        "id": "LeIbnt8VJRdS"
      }
    },
    {
      "cell_type": "code",
      "source": [
        "numero = int(input(\"Digite um número: \"))\n",
        "\n",
        "if numero <= 1:\n",
        "    print(\"Não é primo.\")\n",
        "else:\n",
        "    primo = True\n",
        "    for i in range(2, numero):  # testa divisores de 2 até n-1\n",
        "        if numero % i == 0:\n",
        "            primo = False\n",
        "            break\n",
        "    if primo:\n",
        "        print(\"É primo.\")\n",
        "    else:\n",
        "        print(\"Não é primo.\")\n"
      ],
      "metadata": {
        "id": "2rcNU7twJRdS",
        "colab": {
          "base_uri": "https://localhost:8080/"
        },
        "outputId": "1432294b-412a-417c-e2ad-9c4ed62125ee"
      },
      "execution_count": null,
      "outputs": [
        {
          "output_type": "stream",
          "name": "stdout",
          "text": [
            "Digite um número: 13\n",
            "É primo.\n"
          ]
        }
      ]
    },
    {
      "cell_type": "markdown",
      "source": [
        "#### Questão 8\n",
        "Vamos entender a distribuição de idades de pensionistas de uma empresa de previdência. Escreva um programa que leia as idades de uma quantidade não informada de clientes e mostre a distribuição em intervalos de [0-25], [26-50], [51-75] e [76-100]. Encerre a entrada de dados com um número negativo."
      ],
      "metadata": {
        "id": "QTwb6QaCJRdT"
      }
    },
    {
      "cell_type": "code",
      "source": [
        "# Inicializa os contadores de cada faixa\n",
        "faixa_1 = 0  # [0-25]\n",
        "faixa_2 = 0  # [26-50]\n",
        "faixa_3 = 0  # [51-75]\n",
        "faixa_4 = 0  # [76-100]\n",
        "\n",
        "while True:\n",
        "    idade = int(input(\"Digite a idade: \"))\n",
        "\n",
        "    # Condição de parada\n",
        "    if idade < 0:\n",
        "        break\n",
        "\n",
        "    # Verifica em qual faixa a idade se encaixa\n",
        "    if 0 <= idade <= 25:\n",
        "        faixa_1 += 1\n",
        "    elif 26 <= idade <= 50:\n",
        "        faixa_2 += 1\n",
        "    elif 51 <= idade <= 75:\n",
        "        faixa_3 += 1\n",
        "    elif 76 <= idade <= 100:\n",
        "        faixa_4 += 1\n",
        "    else:\n",
        "        print(\"Idade fora do intervalo válido (0-100). Não será contabilizada.\")\n",
        "\n",
        "# Mostra os resultados\n",
        "print(\"\\nDistribuição de idades:\")\n",
        "print(f\"[0-25]: {faixa_1}\")\n",
        "print(f\"[26-50]: {faixa_2}\")\n",
        "print(f\"[51-75]: {faixa_3}\")\n",
        "print(f\"[76-100]: {faixa_4}\")\n"
      ],
      "metadata": {
        "id": "4IAhaDmYJRdT",
        "colab": {
          "base_uri": "https://localhost:8080/"
        },
        "outputId": "f3963746-c220-4cff-a2a4-7de43529254f"
      },
      "execution_count": null,
      "outputs": [
        {
          "output_type": "stream",
          "name": "stdout",
          "text": [
            "Digite a idade: 50\n",
            "Digite a idade: 21\n",
            "Digite a idade: 31\n",
            "Digite a idade: 11\n",
            "Digite a idade: 0\n",
            "Digite a idade: 36\n",
            "Digite a idade: 100\n",
            "Digite a idade: 150\n",
            "Idade fora do intervalo válido (0-100). Não será contabilizada.\n",
            "Digite a idade: 21\n",
            "Digite a idade: 32\n",
            "Digite a idade: 33\n",
            "Digite a idade: 41\n",
            "Digite a idade: 65\n",
            "Digite a idade: 12\n",
            "Digite a idade: 11\n",
            "Digite a idade: 10\n",
            "Digite a idade: 5\n",
            "Digite a idade: 9\n",
            "Digite a idade: -1\n",
            "\n",
            "Distribuição de idades:\n",
            "[0-25]: 9\n",
            "[26-50]: 6\n",
            "[51-75]: 1\n",
            "[76-100]: 1\n"
          ]
        }
      ]
    },
    {
      "cell_type": "markdown",
      "source": [
        "#### Questão 9\n",
        "Em uma eleição para gerência em uma empresa com 20 funcionários, existem quatro candidatos. Escreva um programa que calcule o vencedor da eleição. A votação ocorreu da seguinte maneira:\n",
        "- Cada funcionário votou em um dos quatro candidatos (representados pelos números 1, 2, 3 e 4).\n",
        "- Também foram contabilizados os votos nulos (representado pelo número 5) e os votos em branco (representado pelo número 6).\n",
        "\n",
        "Ao final da votação, o programa deve exibir o total de votos para cada candidato, o número de votos nulos e o número de votos em branco. Além disso, deve calcular e exibir a porcentagem de votos nulos em relação ao total de votos e a porcentagem de votos em branco em relação ao total de votos."
      ],
      "metadata": {
        "id": "soJCQVwRJRdT"
      }
    },
    {
      "cell_type": "code",
      "source": [
        "candidato_1 = 0\n",
        "candidato_2 = 0\n",
        "candidato_3 = 0\n",
        "candidato_4 = 0\n",
        "nulo_5 = 0\n",
        "branco_6 = 0\n",
        "\n",
        "# Total de eleitores\n",
        "total_votos = 20\n",
        "\n",
        "for i in range(1, total_votos + 1):\n",
        "    numero_cand = int(input(f'Digite o número do candidato (1 a 6) - Voto {i}: '))\n",
        "\n",
        "    if numero_cand == 1:\n",
        "        candidato_1 += 1\n",
        "    elif numero_cand == 2:\n",
        "        candidato_2 += 1\n",
        "    elif numero_cand == 3:\n",
        "        candidato_3 += 1\n",
        "    elif numero_cand == 4:\n",
        "        candidato_4 += 1\n",
        "    elif numero_cand == 5:\n",
        "        nulo_5 += 1\n",
        "    elif numero_cand == 6:\n",
        "        branco_6 += 1\n",
        "    else:\n",
        "        print('Número inválido! Voto não contabilizado.')\n",
        "\n",
        "# Exibir resultados\n",
        "print(\"\\nResultado da eleição:\")\n",
        "print(f\"Candidato 1: {candidato_1} votos\")\n",
        "print(f\"Candidato 2: {candidato_2} votos\")\n",
        "print(f\"Candidato 3: {candidato_3} votos\")\n",
        "print(f\"Candidato 4: {candidato_4} votos\")\n",
        "print(f\"Votos Nulos: {nulo_5}\")\n",
        "print(f\"Votos em Branco: {branco_6}\")\n",
        "\n",
        "# Calcular porcentagens\n",
        "porcentagem_nulos = (nulo_5 / total_votos) * 100\n",
        "porcentagem_brancos = (branco_6 / total_votos) * 100\n",
        "\n",
        "print(f\"\\nPorcentagem de votos Nulos: {porcentagem_nulos:.2f}%\")\n",
        "print(f\"Porcentagem de votos em Branco: {porcentagem_brancos:.2f}%\")\n",
        "\n",
        "# Determinar vencedor\n",
        "votos_candidatos = {\n",
        "    \"Candidato 1\": candidato_1,\n",
        "    \"Candidato 2\": candidato_2,\n",
        "    \"Candidato 3\": candidato_3,\n",
        "    \"Candidato 4\": candidato_4\n",
        "}\n",
        "\n",
        "vencedor = max(votos_candidatos, key=votos_candidatos.get)\n",
        "print(f\"\\nO vencedor da eleição foi: {vencedor} com {votos_candidatos[vencedor]} votos!\")\n",
        "22"
      ],
      "metadata": {
        "id": "041EFrgG-4gR",
        "colab": {
          "base_uri": "https://localhost:8080/"
        },
        "outputId": "015bd4b5-3861-4ce3-bc2b-31e1b81146e7"
      },
      "execution_count": null,
      "outputs": [
        {
          "output_type": "stream",
          "name": "stdout",
          "text": [
            "Digite o número do candidato (1 a 6) - Voto 1: 1\n",
            "Digite o número do candidato (1 a 6) - Voto 2: 2\n",
            "Digite o número do candidato (1 a 6) - Voto 3: 3\n",
            "Digite o número do candidato (1 a 6) - Voto 4: 4\n",
            "Digite o número do candidato (1 a 6) - Voto 5: 5\n",
            "Digite o número do candidato (1 a 6) - Voto 6: 5\n",
            "Digite o número do candidato (1 a 6) - Voto 7: 5\n",
            "Digite o número do candidato (1 a 6) - Voto 8: 5\n",
            "Digite o número do candidato (1 a 6) - Voto 9: 5\n",
            "Digite o número do candidato (1 a 6) - Voto 10: 6\n",
            "Digite o número do candidato (1 a 6) - Voto 11: 6\n",
            "Digite o número do candidato (1 a 6) - Voto 12: 6\n",
            "Digite o número do candidato (1 a 6) - Voto 13: 3\n",
            "Digite o número do candidato (1 a 6) - Voto 14: 2\n",
            "Digite o número do candidato (1 a 6) - Voto 15: 3\n",
            "Digite o número do candidato (1 a 6) - Voto 16: 3\n",
            "Digite o número do candidato (1 a 6) - Voto 17: 2\n",
            "Digite o número do candidato (1 a 6) - Voto 18: 1\n",
            "Digite o número do candidato (1 a 6) - Voto 19: 4\n",
            "Digite o número do candidato (1 a 6) - Voto 20: 5\n",
            "\n",
            "Resultado da eleição:\n",
            "Candidato 1: 2 votos\n",
            "Candidato 2: 3 votos\n",
            "Candidato 3: 4 votos\n",
            "Candidato 4: 2 votos\n",
            "Votos Nulos: 6\n",
            "Votos em Branco: 3\n",
            "\n",
            "Porcentagem de votos Nulos: 30.00%\n",
            "Porcentagem de votos em Branco: 15.00%\n",
            "\n",
            "O vencedor da eleição foi: Candidato 3 com 4 votos!\n"
          ]
        },
        {
          "output_type": "execute_result",
          "data": {
            "text/plain": [
              "22"
            ]
          },
          "metadata": {},
          "execution_count": 2
        }
      ]
    },
    {
      "cell_type": "markdown",
      "source": [
        "## Aula 5 - Estruturas de dados"
      ],
      "metadata": {
        "id": "eijHQiNU2IZ7"
      }
    },
    {
      "cell_type": "markdown",
      "source": [
        "### Aquecendo na programação"
      ],
      "metadata": {
        "id": "92F0bKtBMgd7"
      }
    },
    {
      "cell_type": "markdown",
      "source": [
        "#### Questão 1\n",
        "Faça um programa que tenha a seguinte lista contendo os valores de gastos de uma empresa de papel `[2172.54, 3701.35, 3518.09, 3456.61, 3249.38, 2840.82, 3891.45, 3075.26, 2317.64, 3219.08]`. Com esses valores, faça um programa que calcule a média de gastos. Dica, use as funções built-in [`sum()`](https://docs.python.org/3/library/functions.html#sum) e [`len()`](https://docs.python.org/3/library/functions.html#len)."
      ],
      "metadata": {
        "id": "IypX2ANuMgeC"
      }
    },
    {
      "cell_type": "code",
      "source": [
        "lista_gastos = [2172.54, 3701.35, 3518.09, 3456.61, 3249.38, 2840.82, 3891.45, 3075.26, 2317.64, 3219.08]\n",
        "\n",
        "media = sum(lista_gastos) / len(lista_gastos)\n",
        "\n",
        "print(f'A média gasta pela empresa de papel foi de R$ {media:.2f}')"
      ],
      "metadata": {
        "id": "ge3LuFhLMgeD",
        "colab": {
          "base_uri": "https://localhost:8080/"
        },
        "outputId": "6f46e030-e50c-4e7d-b0a2-3aca14e1268f"
      },
      "execution_count": null,
      "outputs": [
        {
          "output_type": "stream",
          "name": "stdout",
          "text": [
            "A média gasta pela empresa de papel foi de R$ 3144.22\n"
          ]
        }
      ]
    },
    {
      "cell_type": "markdown",
      "source": [
        "#### Questão 2\n",
        " Com os mesmos dados da questão anterior, defina quantas compras foram acima de 3000 reais e calcule a porcentagem quanto ao total de compras."
      ],
      "metadata": {
        "id": "xrOeLhQkMgeD"
      }
    },
    {
      "cell_type": "code",
      "source": [
        "quantidade = 0\n",
        "valores_acima = []\n",
        "\n",
        "for valor in lista_gastos:\n",
        "  if valor > 3000:\n",
        "    quantidade += 1\n",
        "    valores_acima.append(valor)\n",
        "\n",
        "porcentagem = (quantidade / len(lista_gastos) * 100)\n",
        "\n",
        "print(f'A quantidade de acima de R$ 3.000,00 foi de {quantidade}.')\n",
        "print(f'Isso representa {porcentagem:.2f}% do total de compras.')\n",
        "print(f'Os valores foram: {valores_acima}')\n"
      ],
      "metadata": {
        "id": "Ygu5TMZyMgeD",
        "colab": {
          "base_uri": "https://localhost:8080/"
        },
        "outputId": "bad7c8ee-0387-4bd2-ef89-3d0e8ec21596"
      },
      "execution_count": null,
      "outputs": [
        {
          "output_type": "stream",
          "name": "stdout",
          "text": [
            "A quantidade de acima de R$ 3.000,00 foi de 7.\n",
            "Isso representa 70.00% do total de compras.\n",
            "Os valores foram: [3701.35, 3518.09, 3456.61, 3249.38, 3891.45, 3075.26, 3219.08]\n"
          ]
        }
      ]
    },
    {
      "cell_type": "markdown",
      "source": [
        "#### Questão 3\n",
        "Faça um código que colete em uma lista 5 números inteiros quaisquer e imprima a lista. Exemplo: `[1,4,7,2,4]`."
      ],
      "metadata": {
        "id": "JgCOrE_BMgeD"
      }
    },
    {
      "cell_type": "code",
      "source": [
        "lista_numeros = []\n",
        "\n",
        "for i in range (1, 6):\n",
        "  numero = int(input(f'Digite o {i}° numero: '))\n",
        "  lista_numeros.append(numero)\n",
        "\n",
        "print(lista_numeros)"
      ],
      "metadata": {
        "id": "vtM9O1hLMgeD",
        "colab": {
          "base_uri": "https://localhost:8080/"
        },
        "outputId": "8fefbd91-9480-41f2-f0ad-eeb997272418"
      },
      "execution_count": null,
      "outputs": [
        {
          "output_type": "stream",
          "name": "stdout",
          "text": [
            "Digite o 1° numero: 1\n",
            "Digite o 2° numero: 3\n",
            "Digite o 3° numero: 6\n",
            "Digite o 4° numero: 7\n",
            "Digite o 5° numero: 9\n",
            "[1, 3, 6, 7, 9]\n"
          ]
        }
      ]
    },
    {
      "cell_type": "markdown",
      "source": [
        "#### Questão 4\n",
        "Colete novamente 5 inteiros e imprima a lista em ordem inversa à enviada."
      ],
      "metadata": {
        "id": "p3bTp88HMgeD"
      }
    },
    {
      "cell_type": "code",
      "source": [
        "lista_numeros = []\n",
        "\n",
        "for i in range (1, 6):\n",
        "  numero = int(input(f'Digite o {i}° numero: '))\n",
        "  lista_numeros.append(numero)\n",
        "\n",
        "lista_numeros.reverse()\n",
        "print(lista_numeros)"
      ],
      "metadata": {
        "id": "-CGwMIyHMgeD",
        "colab": {
          "base_uri": "https://localhost:8080/"
        },
        "outputId": "3eb76675-29bb-4a95-c80f-8ef144990c1e"
      },
      "execution_count": null,
      "outputs": [
        {
          "output_type": "stream",
          "name": "stdout",
          "text": [
            "Digite o 1° numero: 1\n",
            "Digite o 2° numero: 2\n",
            "Digite o 3° numero: 3\n",
            "Digite o 4° numero: 4\n",
            "Digite o 5° numero: 5\n",
            "[5, 4, 3, 2, 1]\n"
          ]
        }
      ]
    },
    {
      "cell_type": "markdown",
      "source": [
        "#### Questão 5\n",
        "Faça um programa que, ao inserir um número qualquer, criará uma lista contendo todos os números primos entre 1 e o número digitado."
      ],
      "metadata": {
        "id": "eIXd_z1lMgeD"
      }
    },
    {
      "cell_type": "code",
      "source": [
        "num_primos = []\n",
        "lim_primo = int(input('Digite um número: '))\n",
        "\n",
        "for num in range(2, lim_primo + 1):\n",
        "    primo = True\n",
        "    for i in range(2, num):  # testa divisores de 2 até num-1\n",
        "        if num % i == 0:\n",
        "            primo = False\n",
        "            break\n",
        "    if primo:\n",
        "        num_primos.append(num)\n",
        "\n",
        "print(f\"Números primos entre 1 e {lim_primo}: {num_primos}\")\n"
      ],
      "metadata": {
        "id": "rj_6GHstMgeE",
        "colab": {
          "base_uri": "https://localhost:8080/"
        },
        "outputId": "7d853756-2fcd-4637-b2f5-d26331b9a4a1"
      },
      "execution_count": null,
      "outputs": [
        {
          "output_type": "stream",
          "name": "stdout",
          "text": [
            "Digite um número: 15\n",
            "Números primos entre 1 e 15: [2, 3, 5, 7, 11, 13]\n"
          ]
        }
      ]
    },
    {
      "cell_type": "markdown",
      "source": [
        "#### Questão 6\n",
        "Escreva um programa que peça uma data informando o dia, mês e ano e determine se ela é uma data válida para uma análise."
      ],
      "metadata": {
        "id": "zrbz3ENlMgeE"
      }
    },
    {
      "cell_type": "code",
      "source": [
        "# função para verificar se um ano é bissexto\n",
        "def bissexto(ano):\n",
        "    if (ano % 4 == 0 and ano % 100 != 0) or (ano % 400 == 0):\n",
        "        return True\n",
        "    return False\n",
        "\n",
        "# entrada de dados\n",
        "dia = int(input(\"Digite o dia: \"))\n",
        "mes = int(input(\"Digite o mês: \"))\n",
        "ano = int(input(\"Digite o ano: \"))\n",
        "\n",
        "# meses com 31 dias\n",
        "meses_31 = [1, 3, 5, 7, 8, 10, 12]\n",
        "# meses com 30 dias\n",
        "meses_30 = [4, 6, 9, 11]\n",
        "\n",
        "valida = True  # assumimos que é válido e vamos checar\n",
        "\n",
        "# valida mês\n",
        "if mes < 1 or mes > 12:\n",
        "    valida = False\n",
        "else:\n",
        "    # verifica dias de acordo com o mês\n",
        "    if mes in meses_31 and not (1 <= dia <= 31):\n",
        "        valida = False\n",
        "    elif mes in meses_30 and not (1 <= dia <= 30):\n",
        "        valida = False\n",
        "    elif mes == 2:\n",
        "        if bissexto(ano) and not (1 <= dia <= 29):\n",
        "            valida = False\n",
        "        elif not bissexto(ano) and not (1 <= dia <= 28):\n",
        "            valida = False\n",
        "\n",
        "# resultado\n",
        "if valida:\n",
        "    print(f\"A data {dia:02d}/{mes:02d}/{ano} é válida.\")\n",
        "else:\n",
        "    print(\"Data inválida!\")\n"
      ],
      "metadata": {
        "id": "0eYA8UjTMgeE",
        "colab": {
          "base_uri": "https://localhost:8080/"
        },
        "outputId": "fd807ec5-a715-4f44-8bf1-8072d69a868a"
      },
      "execution_count": null,
      "outputs": [
        {
          "output_type": "stream",
          "name": "stdout",
          "text": [
            "Digite o dia: 35\n",
            "Digite o mês: 03\n",
            "Digite o ano: 2025\n",
            "Data inválida!\n"
          ]
        }
      ]
    },
    {
      "cell_type": "markdown",
      "source": [
        "### Momento dos projetos"
      ],
      "metadata": {
        "id": "ut_4VHdGMgeE"
      }
    },
    {
      "cell_type": "markdown",
      "source": [
        "#### Questão 7\n",
        "Para um estudo envolvendo o nível de multiplicação de bactérias em uma colônia, foi coletado o número de bactérias multiplicadas por dia, com base em um processo de duplicação diária e pode ser observado a seguir: `[1.2, 2.1, 3.3, 5.0, 7.8, 11.3, 16.6, 25.1, 37.8, 56.9]`. Tendo esses valores, faça um código que gere uma lista contendo o percentual de crescimento de bactérias por dia, comparando o número de bactérias em cada dia com o número de bactérias do dia anterior. Dica: para calcular o percentual de crescimento usamos a seguinte equação: `100 * (amostra_atual - amostra_passada) / (amostra_passada)`."
      ],
      "metadata": {
        "id": "G86Z0vD_MgeE"
      }
    },
    {
      "cell_type": "code",
      "source": [
        "perc_bacteria = []\n",
        "mult_bacteria = [1.2, 2.1, 3.3, 5.0, 7.8, 11.3, 16.6, 25.1, 37.8, 56.9]\n",
        "\n",
        "for i in range(1, len(mult_bacteria)):\n",
        "    amostra_passada = mult_bacteria[i - 1]\n",
        "    amostra_atual = mult_bacteria[i]\n",
        "    percentual = 100 * (amostra_atual - amostra_passada) / amostra_passada\n",
        "    perc_bacteria.append(round(percentual, 2))  # arredonda para 2 casas\n",
        "\n",
        "print(f\"Segue a evolução de contaminação em porcentagem:\\n {perc_bacteria}\")\n"
      ],
      "metadata": {
        "id": "PXNO_CFkMgeE",
        "colab": {
          "base_uri": "https://localhost:8080/"
        },
        "outputId": "0dc4dc6f-f22b-4ccc-b8fa-0c53888f24e5"
      },
      "execution_count": null,
      "outputs": [
        {
          "output_type": "stream",
          "name": "stdout",
          "text": [
            "Segue a evolução de contaminação em porcentagem:\n",
            " [75.0, 57.14, 51.52, 56.0, 44.87, 46.9, 51.2, 50.6, 50.53]\n"
          ]
        }
      ]
    },
    {
      "cell_type": "markdown",
      "source": [
        "#### Questão 8\n",
        "Para uma seleção de produtos alimentícios, precisamos separar o conjunto de IDs dados por números inteiros, sabendo que os produtos com ID par são doces e os com ID ímpar são amargos. Monte um código que colete 10 IDs. Depois, calcule e mostre a quantidade de produtos doces e amargos."
      ],
      "metadata": {
        "id": "p4nxogpnMgeE"
      }
    },
    {
      "cell_type": "code",
      "source": [
        "lista_doce = []\n",
        "lista_amargos = []\n",
        "\n",
        "for i in range(10):\n",
        "    id_produto = int(input(\"Digite o ID do produto: \"))\n",
        "    if id_produto % 2 == 0:\n",
        "        lista_doce.append(id_produto)\n",
        "    else:\n",
        "        lista_amargos.append(id_produto)\n",
        "\n",
        "print(f\"A quantidade de doces: {len(lista_doce)}\")\n",
        "print(f\"A quantidade de amargos: {len(lista_amargos)}\")\n"
      ],
      "metadata": {
        "id": "WqjO2SZkMgeE",
        "colab": {
          "base_uri": "https://localhost:8080/"
        },
        "outputId": "f9db6a1c-8ce0-4628-9598-aff7552f071c"
      },
      "execution_count": null,
      "outputs": [
        {
          "output_type": "stream",
          "name": "stdout",
          "text": [
            "Digite o ID do produto: 10\n",
            "Digite o ID do produto: 25\n",
            "Digite o ID do produto: 34\n",
            "Digite o ID do produto: 11\n",
            "Digite o ID do produto: 35\n",
            "Digite o ID do produto: 19\n",
            "Digite o ID do produto: 6\n",
            "Digite o ID do produto: 7\n",
            "Digite o ID do produto: 8\n",
            "Digite o ID do produto: 28\n",
            "A quantidade de doces: 5\n",
            "A quantidade de amargos: 5\n"
          ]
        }
      ]
    },
    {
      "cell_type": "markdown",
      "source": [
        "#### Questão 9\n",
        "Desenvolva um programa que informa a nota de um aluno de acordo com suas respostas. Ele deve pedir a resposta de um aluno para cada questão e é preciso verificar se a resposta foi igual ao gabarito. Cada questão vale um ponto e existem alternativas:  A, B, C ou D.\n",
        "```\n",
        "Gabarito da Prova:\n",
        "01 - D\n",
        "02 - A\n",
        "03 - C\n",
        "04 - B\n",
        "05 - A\n",
        "06 - D\n",
        "07 - C\n",
        "08 - C\n",
        "09 - A\n",
        "10 - B\n",
        "```"
      ],
      "metadata": {
        "id": "t5OrLxV6MgeE"
      }
    },
    {
      "cell_type": "code",
      "source": [
        "gabarito = ['D', 'A', 'C', 'B', 'A', 'D', 'C', 'C', 'A', 'B']\n",
        "acertos = 0\n",
        "\n",
        "for cont in range(len(gabarito)):\n",
        "  resposta = input(f'Qual a alternativa da {cont+1}° questão? ').upper()\n",
        "  if resposta == gabarito[cont]:\n",
        "    acertos += 1\n",
        "  else:\n",
        "    acertos += 0\n",
        "print(f'Nota do aluno {acertos}/{len(gabarito)}')\n"
      ],
      "metadata": {
        "id": "ytIQDJrQMgeE",
        "colab": {
          "base_uri": "https://localhost:8080/"
        },
        "outputId": "7bedf465-4f18-4404-e0d0-51b49cfb395d"
      },
      "execution_count": null,
      "outputs": [
        {
          "output_type": "stream",
          "name": "stdout",
          "text": [
            "Qual a alternativa da 1° questão? D\n",
            "Qual a alternativa da 2° questão? A\n",
            "Qual a alternativa da 3° questão? C\n",
            "Qual a alternativa da 4° questão? A\n",
            "Qual a alternativa da 5° questão? A\n",
            "Qual a alternativa da 6° questão? C\n",
            "Qual a alternativa da 7° questão? D\n",
            "Qual a alternativa da 8° questão? D\n",
            "Qual a alternativa da 9° questão? A\n",
            "Qual a alternativa da 10° questão? B\n",
            "Nota do aluno 6/10\n"
          ]
        }
      ]
    },
    {
      "cell_type": "markdown",
      "source": [
        "#### Questão 10\n",
        "Um instituto de meteorologia deseja fazer um estudo de temperatura média de cada mês do ano. Para isso, você precisa fazer um código que colete e armazene essas temperaturas médias em uma lista. Depois, calcule a média anual das temperaturas e mostre todas as temperaturas acima da média anual, e em que mês elas ocorreram, mostrando os meses por extenso: Janeiro, Fevereiro, etc."
      ],
      "metadata": {
        "id": "aSBMzh-AMgeF"
      }
    },
    {
      "cell_type": "code",
      "source": [
        "meses = [\"Janeiro\", \"Fevereiro\", \"Março\", \"Abril\", \"Maio\", \"Junho\",\n",
        "         \"Julho\", \"Agosto\", \"Setembro\", \"Outubro\", \"Novembro\", \"Dezembro\"]\n",
        "\n",
        "temperaturas = {}\n",
        "\n",
        "for mes in meses:\n",
        "    temperaturas[mes] = float(input(f\"Digite a média de temperatura de {mes}: \"))\n",
        "\n",
        "media_temp = sum(temperaturas.values()) / len(temperaturas)\n",
        "\n",
        "print(f\"\\nMédia anual de temperatura: {media_temp:.2f}°C\")\n",
        "print(\"Meses acima da média anual:\")\n",
        "\n",
        "for mes, temp in temperaturas.items():\n",
        "    if temp > media_temp:\n",
        "        print(f\"{mes}: {temp}°C\")\n"
      ],
      "metadata": {
        "id": "ftj04s2uMgeF",
        "colab": {
          "base_uri": "https://localhost:8080/"
        },
        "outputId": "0fc0a15e-cb6a-4b4d-ce90-e97e36233d0b"
      },
      "execution_count": null,
      "outputs": [
        {
          "output_type": "stream",
          "name": "stdout",
          "text": [
            "Digite a média de temperatura de Janeiro: 37\n",
            "Digite a média de temperatura de Fevereiro: 36.5\n",
            "Digite a média de temperatura de Março: 25\n",
            "Digite a média de temperatura de Abril: 22\n",
            "Digite a média de temperatura de Maio: 30\n",
            "Digite a média de temperatura de Junho: 21\n",
            "Digite a média de temperatura de Julho: 18\n",
            "Digite a média de temperatura de Agosto: 20\n",
            "Digite a média de temperatura de Setembro: 23\n",
            "Digite a média de temperatura de Outubro: 16\n",
            "Digite a média de temperatura de Novembro: 20\n",
            "Digite a média de temperatura de Dezembro: 21\n",
            "\n",
            "Média anual de temperatura: 24.12°C\n",
            "Meses acima da média anual:\n",
            "Janeiro: 37.0°C\n",
            "Fevereiro: 36.5°C\n",
            "Março: 25.0°C\n",
            "Maio: 30.0°C\n"
          ]
        }
      ]
    },
    {
      "cell_type": "markdown",
      "source": [
        "#### Questão 11\n",
        "Uma empresa de e-commerce está interessada em analisar as vendas dos seus produtos. Os dados das vendas foram armazenados em um dicionário:\n",
        "```\n",
        "{'Produto A': 300, 'Produto B': 80, 'Produto C': 60,\n",
        " 'Produto D': 200, 'Produto E': 250, 'Produto F': 30}\n",
        "```\n",
        "Escreva um código que calcule o total de vendas e o produto mais vendido."
      ],
      "metadata": {
        "id": "0X8S6s4jMgeF"
      }
    },
    {
      "cell_type": "code",
      "source": [
        "produtos = {\n",
        "    'Produto A': 300,\n",
        "    'Produto B': 80,\n",
        "    'Produto C': 60,\n",
        "    'Produto D': 200,\n",
        "    'Produto E': 250,\n",
        "    'Produto F': 30\n",
        "}\n",
        "\n",
        "# total de vendas\n",
        "total_vendas = sum(produtos.values())\n",
        "\n",
        "# produto mais vendido\n",
        "mais_vendido = max(produtos, key=produtos.get)\n",
        "\n",
        "print(f\"Total de vendas: {total_vendas}\")\n",
        "print(f\"Produto mais vendido: {mais_vendido} ({produtos[mais_vendido]} unidades)\")\n"
      ],
      "metadata": {
        "id": "Xa3DJLtFMgeF",
        "colab": {
          "base_uri": "https://localhost:8080/"
        },
        "outputId": "c1db4c6c-6e54-448a-e29b-0d0e007749c3"
      },
      "execution_count": null,
      "outputs": [
        {
          "output_type": "stream",
          "name": "stdout",
          "text": [
            "Total de vendas: 920\n",
            "Produto mais vendido: Produto A (300 unidades)\n"
          ]
        }
      ]
    },
    {
      "cell_type": "markdown",
      "source": [
        "#### Questão 12\n",
        "Uma pesquisa de mercado foi feita para decidir qual design de uma marca infantil mais agrada crianças. A pesquisa foi feita e o votos computados podem ser observados abaixo:\n",
        "```\n",
        "'''\n",
        "Tabela de votos da marca\n",
        "Design 1 - 1334 votos\n",
        "Design 2 - 982 votos\n",
        "Design 3 - 1751 votos\n",
        "Design 4 - 210 votos\n",
        "Design 5 - 1811 votos\n",
        "'''\n",
        "```\n",
        "Adapte os dados fornecidos a você para uma estrutura de dicionário e a partir dele, informe o design vencedor e a porcentagem de votos recebidos.\n"
      ],
      "metadata": {
        "id": "nrEwf_1ZMgeF"
      }
    },
    {
      "cell_type": "code",
      "source": [
        "design = {\n",
        "    'Design_1' : 1334,\n",
        "    'Design_2' : 982,\n",
        "    'Design_3' : 1751,\n",
        "    'Design_4' : 210,\n",
        "    'Design_5' : 1811\n",
        "}\n",
        "\n",
        "vencedor = max(design, key=design.get)\n",
        "total_votos = sum(design.values())\n",
        "perc_votos = round((design[vencedor] / total_votos) * 100, 2)\n",
        "\n",
        "print(f'O Design vencedor foi o {vencedor} com {perc_votos}% dos votos!')\n"
      ],
      "metadata": {
        "id": "MRPcGR-_MgeF",
        "colab": {
          "base_uri": "https://localhost:8080/"
        },
        "outputId": "44afa24f-fc6c-4db0-d207-551d6720bede"
      },
      "execution_count": null,
      "outputs": [
        {
          "output_type": "stream",
          "name": "stdout",
          "text": [
            "O Design vencedor foi o Design_5 com 29.75% dos votos!\n"
          ]
        }
      ]
    },
    {
      "cell_type": "markdown",
      "source": [
        "#### Questão 13\n",
        "Os funcionários de um setor da empresa que você trabalha vão receber um abono correspondente a 10% do seu salário devido ao ótimo desempenho do time. O setor financeiro solicitou sua ajuda para a verificação das consequências financeiras que esse abono irá gerar nos recursos. Assim, foi encaminhada para você uma lista com os salários que receberão o abono: `[1172, 1644, 2617, 5130, 5532, 6341, 6650, 7238, 7685, 7782, 7903]`. O abono de cada funcionário não pode ser inferior a 200. Em código, transforme cada um dos salários em chaves de um dicionário e o abono de cada salário no elemento. Depois, informe o total de gastos com o abono, quantos funcionários receberam o abono mínimo e qual o maior valor de abono fornecido.\n"
      ],
      "metadata": {
        "id": "HRTFFzKIMgeF"
      }
    },
    {
      "cell_type": "code",
      "source": [
        "salarios = [1172, 1644, 2617, 5130, 5532, 6341, 6650, 7238, 7685, 7782, 7903]\n",
        "\n",
        "abonos = {}  # dicionário: salário → abono\n",
        "for s in salarios:\n",
        "    valor_abono = round(s * 0.10, 2)\n",
        "    if valor_abono < 200:\n",
        "        valor_abono = 200\n",
        "    abonos[s] = valor_abono\n",
        "\n",
        "# total gasto\n",
        "total_gasto = sum(abonos.values())\n",
        "\n",
        "# quantidade de funcionários que receberam o abono mínimo\n",
        "qtd_minimo = list(abonos.values()).count(200)\n",
        "\n",
        "# maior valor de abono\n",
        "maior_abono = max(abonos.values())\n",
        "\n",
        "print(\"Dicionário salário → abono:\", abonos)\n",
        "print(f\"Total gasto com abonos: R$ {total_gasto:.2f}\")\n",
        "print(f\"Funcionários que receberam o abono mínimo: {qtd_minimo}\")\n",
        "print(f\"Maior valor de abono fornecido: R$ {maior_abono:.2f}\")\n"
      ],
      "metadata": {
        "id": "QsDSCua42bLB",
        "colab": {
          "base_uri": "https://localhost:8080/"
        },
        "outputId": "77672234-f222-464b-bcc5-0a6bdfe12295"
      },
      "execution_count": null,
      "outputs": [
        {
          "output_type": "stream",
          "name": "stdout",
          "text": [
            "Dicionário salário → abono: {1172: 200, 1644: 200, 2617: 261.7, 5130: 513.0, 5532: 553.2, 6341: 634.1, 6650: 665.0, 7238: 723.8, 7685: 768.5, 7782: 778.2, 7903: 790.3}\n",
            "Total gasto com abonos: R$ 6087.80\n",
            "Funcionários que receberam o abono mínimo: 2\n",
            "Maior valor de abono fornecido: R$ 790.30\n"
          ]
        }
      ]
    },
    {
      "cell_type": "markdown",
      "source": [
        "#### Questão 14\n",
        "Uma equipe de cientistas de dados está estudando a diversidade biológica em uma floresta. A equipe fez a coleta de informações sobre o número de espécies de plantas e animais em cada área da floresta e armazenaram essas informações em um dicionário. Nele, a chave descreve a área dos dados e os valores nas listas correspondem às espécies de plantas e animais nas áreas, respectivamente.\n",
        "```\n",
        "{'Área Norte': [2819, 7236],\n",
        " 'Área Leste': [1440, 9492],\n",
        " 'Área Sul': [5969, 7496],\n",
        " 'Área Oeste': [14446, 49688],\n",
        " 'Área Centro': [22558, 45148]}\n",
        "```\n",
        "Escreva um código para calcular a média de espécies por área e identificar a área com a maior diversidade biológica. Dica: use as funções built-in [`sum()`](https://docs.python.org/3/library/functions.html#sum) e [`len()`](https://docs.python.org/3/library/functions.html#len).\n"
      ],
      "metadata": {
        "id": "6dEXZEwjMlWy"
      }
    },
    {
      "cell_type": "code",
      "source": [
        "areas = {\n",
        "    'Área Norte': [2819, 7236],\n",
        "    'Área Leste': [1440, 9492],\n",
        "    'Área Sul': [5969, 7496],\n",
        "    'Área Oeste': [14446, 49688],\n",
        "    'Área Centro': [22558, 45148]\n",
        "}\n",
        "\n",
        "medias = {}\n",
        "totais = {}\n",
        "\n",
        "for area, especies in areas.items():\n",
        "    media = sum(especies) / len(especies)   # média entre plantas e animais\n",
        "    total = sum(especies)                   # total de espécies\n",
        "    medias[area] = media\n",
        "    totais[area] = total\n",
        "\n",
        "# área com maior diversidade\n",
        "area_mais_diversa = max(totais, key=totais.get)\n",
        "\n",
        "# resultados\n",
        "print(\"Média de espécies por área:\")\n",
        "for area, media in medias.items():\n",
        "    print(f\"{area}: {media:.2f}\")\n",
        "\n",
        "print(f\"\\nÁrea com maior diversidade biológica: {area_mais_diversa} ({totais[area_mais_diversa]} espécies)\")\n"
      ],
      "metadata": {
        "id": "eQnOUDfYMlWy",
        "colab": {
          "base_uri": "https://localhost:8080/"
        },
        "outputId": "e39a8468-9bab-4719-ef9a-b38939451158"
      },
      "execution_count": null,
      "outputs": [
        {
          "output_type": "stream",
          "name": "stdout",
          "text": [
            "Média de espécies por área:\n",
            "Área Norte: 5027.50\n",
            "Área Leste: 5466.00\n",
            "Área Sul: 6732.50\n",
            "Área Oeste: 32067.00\n",
            "Área Centro: 33853.00\n",
            "\n",
            "Área com maior diversidade biológica: Área Centro (67706 espécies)\n"
          ]
        }
      ]
    },
    {
      "cell_type": "markdown",
      "source": [
        "#### Questão 15\n",
        "O setor de RH da sua empresa te pediu uma ajuda para analisar as idades dos funcionários de 4 setores da empresa. Para isso, ele te forneceu os seguintes dados:\n",
        "```\n",
        "{'Setor A': [22, 26, 30, 30, 35, 38, 40, 56, 57, 65],\n",
        " 'Setor B': [22, 24, 26, 33, 41, 49, 50, 54, 60, 64],\n",
        " 'Setor C': [23, 26, 26, 29, 34, 35, 36, 41, 52, 56],\n",
        " 'Setor D': [19, 20, 25, 27, 34, 39, 42, 44, 50, 65]}\n",
        "```\n",
        "Sabendo que cada setor tem 10 funcionários, construa um código que calcule a média de idade de cada setor, a idade média geral entre todos os setores e quantas pessoas estão acima da idade média geral.\n"
      ],
      "metadata": {
        "id": "r0RW2Sy_MlWy"
      }
    },
    {
      "cell_type": "code",
      "source": [
        "idades = {\n",
        "    'Setor A': [22, 26, 30, 30, 35, 38, 40, 56, 57, 65],\n",
        "    'Setor B': [22, 24, 26, 33, 41, 49, 50, 54, 60, 64],\n",
        "    'Setor C': [23, 26, 26, 29, 34, 35, 36, 41, 52, 56],\n",
        "    'Setor D': [19, 20, 25, 27, 34, 39, 42, 44, 50, 65]\n",
        "}\n",
        "\n",
        "# média por setor\n",
        "medias_setores = {}\n",
        "for setor, lista in idades.items():\n",
        "    medias_setores[setor] = sum(lista) / len(lista)\n",
        "\n",
        "# todas as idades juntas\n",
        "todas_idades = []\n",
        "for lista in idades.values():\n",
        "    todas_idades.extend(lista)\n",
        "\n",
        "media_geral = sum(todas_idades) / len(todas_idades)\n",
        "\n",
        "# quantas pessoas estão acima da média geral\n",
        "acima_media = sum(1 for idade in todas_idades if idade > media_geral)\n",
        "\n",
        "# resultados\n",
        "print(\"Média de idade por setor:\")\n",
        "for setor, media in medias_setores.items():\n",
        "    print(f\"{setor}: {media:.2f}\")\n",
        "\n",
        "print(f\"\\nIdade média geral: {media_geral:.2f}\")\n",
        "print(f\"Quantidade de pessoas acima da média geral: {acima_media}\")\n"
      ],
      "metadata": {
        "id": "wCiwyKP3MmTz",
        "colab": {
          "base_uri": "https://localhost:8080/"
        },
        "outputId": "607df3c9-3c97-4fbe-e17c-5a30752532b9"
      },
      "execution_count": null,
      "outputs": [
        {
          "output_type": "stream",
          "name": "stdout",
          "text": [
            "Média de idade por setor:\n",
            "Setor A: 39.90\n",
            "Setor B: 42.30\n",
            "Setor C: 35.80\n",
            "Setor D: 36.50\n",
            "\n",
            "Idade média geral: 38.62\n",
            "Quantidade de pessoas acima da média geral: 18\n"
          ]
        }
      ]
    }
  ]
}